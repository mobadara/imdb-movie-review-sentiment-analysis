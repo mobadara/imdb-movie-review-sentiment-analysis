{
  "nbformat": 4,
  "nbformat_minor": 0,
  "metadata": {
    "colab": {
      "provenance": [],
      "authorship_tag": "ABX9TyPBucRN1Dw0pgnk9Wwv6ra/"
    },
    "kernelspec": {
      "name": "python3",
      "display_name": "Python 3"
    },
    "language_info": {
      "name": "python"
    }
  },
  "cells": [
    {
      "cell_type": "markdown",
      "source": [
        "# **Sentiment Analysis with LSTM on PyTorch**\n",
        "\n",
        "[![Python](https://img.shields.io/badge/Python-3.9%2B-blue?style=flat&logo=python&logoColor=white)](https://www.python.org/)\n",
        "[![PyTorch](https://img.shields.io/badge/PyTorch-2.0%2B-red?style=flat&logo=pytorch&logoColor=white)](https://pytorch.org/)\n",
        "[![RNN](https://img.shields.io/badge/Model-RNN%20(LSTM)-green?style=flat)](https://en.wikipedia.org/wiki/Recurrent_neural_network)\n",
        "[![Open In Colab](https://colab.research.google.com/assets/colab-badge.svg)](https://colab.research.google.com/github/mobadara/imdb-movie-review-sentiment-analysis/blob/main/notebooks/model-training.ipynb)\n",
        "\n",
        "---\n",
        "\n",
        "## **End-to-End Sentiment Analysis with PyTorch LSTM**\n",
        "\n",
        "This project demonstrates an end-to-end sentiment analysis solution built using PyTorch, focusing on a binary classification problem (positive vs. negative sentiment). The primary objective of this submission is to showcase proficiency in key deep learning concepts and practical PyTorch implementation skills, including:\n",
        "\n",
        "* **Data Handling with Pandas and PyTorch:** Efficiently loading, processing, and transforming data from a Pandas DataFrame into PyTorch `TensorDataset` and `DataLoader` for effective batch processing.\n",
        "* **Comprehensive Text Preprocessing:** Implementing robust text cleaning techniques, including HTML tag removal, lowercasing, tokenization, stop word removal, and lemmatization, crucial for preparing raw text for neural network input.\n",
        "* **Vocabulary Management and Embedding Preparation:** Building a custom vocabulary and converting textual data into numerical sequences suitable for embedding layers. This includes handling padding and unknown tokens.\n",
        "* **Recurrent Neural Network (RNN) Architecture Design:** Constructing and training a Long Short-Term Memory (LSTM) network, a powerful variant of RNNs, specifically tailored for sequential data like natural language. The model will leverage an embedding layer for dense word representations.\n",
        "* **PyTorch Model Training and Evaluation:** Implementing a complete training loop, defining appropriate loss functions (Binary Cross-Entropy), optimizers (Adam), and evaluating model performance (accuracy) on a held-out test set.\n",
        "\n",
        "The [dataset](https://www.kaggle.com/datasets/lakshmi25npathi/imdb-dataset-of-50k-movie-reviews) for this task consists of reviews with a perfectly balanced class distribution, providing an ideal scenario for training and validating a sentiment classifier. This notebook serves as a comprehensive demonstration of the entire machine learning pipeline, from raw data to a trained predictive model, using the PyTorch framework.\n",
        "\n",
        "---\n",
        "\n",
        "## **Theoretical Background: Recurrent Neural Networks (RNNs)**\n",
        "\n",
        "Recurrent Neural Networks (RNNs) are a class of artificial neural networks designed to recognize patterns in sequences of data, such as text, speech, or time series. Unlike traditional feedforward neural networks, RNNs have connections that allow information to flow in a loop, enabling them to maintain an internal state (or \"memory\") that captures information about previous elements in the sequence. This \"memory\" makes them particularly well-suited for tasks involving sequential data where the context of past elements is crucial for understanding the current one.\n",
        "\n",
        "### **Introduction: The Challenge of Vanishing/Exploding Gradients**\n",
        "\n",
        "A significant challenge with vanilla RNNs is the problem of **vanishing or exploding gradients**. During backpropagation through time (BPTT), which is how RNNs learn, gradients can either become extremely small (vanishing) or extremely large (exploding) as they propagate through many time steps.\n",
        "\n",
        "* **Vanishing gradients** make it difficult for the network to learn long-range dependencies, as the influence of earlier inputs on the current output diminishes over time.\n",
        "* **Exploding gradients** lead to unstable training and large weight updates, potentially causing the model to diverge.\n",
        "\n",
        "### **Long Short-Term Memory (LSTM) Networks**\n",
        "\n",
        "To address the vanishing gradient problem, **Long Short-Term Memory (LSTM) networks** were introduced. LSTMs are a special type of RNN that are capable of learning long-term dependencies. They achieve this through a sophisticated internal structure called a \"cell state\" and several \"gates\" that regulate the flow of information into and out of the cell state.\n",
        "\n",
        "Each LSTM unit consists of:\n",
        "* **Forget Gate:** Decides what information to throw away from the cell state.\n",
        "* **Input Gate:** Decides what new information to store in the cell state.\n",
        "* **Output Gate:** Decides what part of the cell state to output.\n",
        "\n",
        "These gates are typically composed of a sigmoid neural net layer and a pointwise multiplication operation. The sigmoid layer outputs numbers between 0 and 1, describing how much of each component should be let through. A value of 0 means \"don't let anything through,\" while a value of 1 means \"let everything through.\"\n",
        "\n",
        "By intelligently controlling the flow of information, LSTMs can preserve relevant information over long sequences, making them highly effective for tasks like sentiment analysis, machine translation, and speech recognition."
      ],
      "metadata": {
        "id": "tZmqwJxaLIpM"
      }
    },
    {
      "cell_type": "markdown",
      "source": [
        "## **Setup and Library Initialization**\n",
        "This section is dedicated to the essential setup procedures required for the project. Below, we'll load all necessary Python packages, ensuring the environment is correctly configured with the appropriate settings and dependencies. This foundational step is critical for seamless execution of the subsequent data processing, model training, and evaluation phases of our sentiment analysis task."
      ],
      "metadata": {
        "id": "Dm5ZVdccRGpJ"
      }
    },
    {
      "cell_type": "code",
      "execution_count": 1,
      "metadata": {
        "id": "dQyZN03hJ9Il",
        "outputId": "26ec275b-aca8-4c2b-9509-c9ffb0efb659",
        "colab": {
          "base_uri": "https://localhost:8080/"
        }
      },
      "outputs": [
        {
          "output_type": "stream",
          "name": "stderr",
          "text": [
            "[nltk_data] Downloading package punkt_tab to /root/nltk_data...\n",
            "[nltk_data]   Unzipping tokenizers/punkt_tab.zip.\n",
            "[nltk_data] Downloading package stopwords to /root/nltk_data...\n",
            "[nltk_data]   Unzipping corpora/stopwords.zip.\n",
            "[nltk_data] Downloading package wordnet to /root/nltk_data...\n"
          ]
        },
        {
          "output_type": "stream",
          "name": "stdout",
          "text": [
            "Path to dataset files: /kaggle/input/imdb-dataset-of-50k-movie-reviews\n",
            "The path /kaggle/input/imdb-dataset-of-50k-movie-reviews exists: True\n",
            "Files in the path /kaggle/input/imdb-dataset-of-50k-movie-reviews: ['IMDB Dataset.csv']\n",
            "--------------------------------------------------\n",
            "PyTorch version: 2.6.0+cu124\n",
            "NLTK version: 3.9.1\n",
            "Pandas version: 2.2.2\n",
            "Matplotlib version: 3.10.0\n",
            "Setup Completed . . . \n"
          ]
        }
      ],
      "source": [
        "# import packages\n",
        "import os\n",
        "import torch\n",
        "import nltk\n",
        "import re\n",
        "import kagglehub\n",
        "import matplotlib\n",
        "import torch.nn as nn\n",
        "import torch.optim as optim\n",
        "import pandas as pd\n",
        "import matplotlib.pyplot as plt\n",
        "from torch.utils.data import Dataset, DataLoader, TensorDataset\n",
        "from sklearn.model_selection import train_test_split\n",
        "from sklearn.metrics import precision_score, recall_score, accuracy_score\n",
        "from nltk.corpus import stopwords\n",
        "from nltk.tokenize import word_tokenize\n",
        "from nltk.stem import WordNetLemmatizer\n",
        "from tqdm import tqdm\n",
        "\n",
        "# Download necessary NLTK resources\n",
        "nltk.download('punkt_tab')\n",
        "nltk.download('stopwords')\n",
        "nltk.download('wordnet')\n",
        "\n",
        "plt.style.use('ggplot')\n",
        "torch.manual_seed(42)\n",
        "\n",
        "# Download latest version Dataset\n",
        "path = kagglehub.dataset_download(\"lakshmi25npathi/imdb-dataset-of-50k-movie-reviews\")\n",
        "print(\"Path to dataset files:\", path)\n",
        "print(f'The path {path} exists: {os.path.exists(path)}')\n",
        "print(f'Files in the path {path}: {os.listdir(path)}')\n",
        "\n",
        "print(f'-'*50)\n",
        "print(f'PyTorch version: {torch.__version__}')\n",
        "print(f'NLTK version: {nltk.__version__}')\n",
        "print(f'Pandas version: {pd.__version__}')\n",
        "print(f'Matplotlib version: {matplotlib.__version__}')\n",
        "print('Setup Completed . . . ')"
      ]
    },
    {
      "cell_type": "code",
      "source": [
        "device = torch.device('cuda' if torch.cuda.is_available() else 'cpu')\n",
        "device"
      ],
      "metadata": {
        "colab": {
          "base_uri": "https://localhost:8080/"
        },
        "id": "owMQF-zyi88e",
        "outputId": "d9d21427-91af-4df7-ca56-c21cd6965b8b"
      },
      "execution_count": 2,
      "outputs": [
        {
          "output_type": "execute_result",
          "data": {
            "text/plain": [
              "device(type='cpu')"
            ]
          },
          "metadata": {},
          "execution_count": 2
        }
      ]
    },
    {
      "cell_type": "markdown",
      "source": [
        "## **Data Loading**\n",
        "\n",
        "In this crucial step, we will load our dataset, which has been pre-downloaded and stored within the specified directory. The file path to this dataset is dynamically managed and accessible via the `path` variable, ensuring flexibility and ease of access. We will utilize the `pandas` library to efficiently read the data into a DataFrame, providing a robust structure for subsequent preprocessing and analysis. This initial data ingestion is fundamental to preparing our text reviews for the sentiment analysis pipeline."
      ],
      "metadata": {
        "id": "cpnh0IJ7WVWy"
      }
    },
    {
      "cell_type": "code",
      "source": [
        "try:\n",
        "    # Load the data from the specified path into a Pandas DataFrame\n",
        "    full_path = os.path.join(path, 'IMDB Dataset.csv')\n",
        "    df = pd.read_csv(full_path)\n",
        "    print(f\"Successfully loaded data from: {full_path}\")\n",
        "    print(\"DataFrame Head:\")\n",
        "    print(df.head())\n",
        "    print(\"\\nDataFrame Info:\")\n",
        "    df.info()\n",
        "except FileNotFoundError:\n",
        "    print(f\"Error: The file '{full_path}' was not found.\")\n",
        "    print(\"Please ensure the file exists at the specified path.\")\n",
        "except Exception as e:\n",
        "    print(f\"An error occurred while loading the data: {e}\")"
      ],
      "metadata": {
        "id": "sxrzBvuyUEWC",
        "outputId": "1f4bf588-9f7e-4032-9421-58cf9f91a568",
        "colab": {
          "base_uri": "https://localhost:8080/"
        }
      },
      "execution_count": 3,
      "outputs": [
        {
          "output_type": "stream",
          "name": "stdout",
          "text": [
            "Successfully loaded data from: /kaggle/input/imdb-dataset-of-50k-movie-reviews/IMDB Dataset.csv\n",
            "DataFrame Head:\n",
            "                                              review sentiment\n",
            "0  One of the other reviewers has mentioned that ...  positive\n",
            "1  A wonderful little production. <br /><br />The...  positive\n",
            "2  I thought this was a wonderful way to spend ti...  positive\n",
            "3  Basically there's a family where a little boy ...  negative\n",
            "4  Petter Mattei's \"Love in the Time of Money\" is...  positive\n",
            "\n",
            "DataFrame Info:\n",
            "<class 'pandas.core.frame.DataFrame'>\n",
            "RangeIndex: 50000 entries, 0 to 49999\n",
            "Data columns (total 2 columns):\n",
            " #   Column     Non-Null Count  Dtype \n",
            "---  ------     --------------  ----- \n",
            " 0   review     50000 non-null  object\n",
            " 1   sentiment  50000 non-null  object\n",
            "dtypes: object(2)\n",
            "memory usage: 781.4+ KB\n"
          ]
        }
      ]
    },
    {
      "cell_type": "markdown",
      "source": [
        "This dataset comprises **50,000** reviews, each accompanied by a sentiment label indicating whether the review is positive or negative."
      ],
      "metadata": {
        "id": "pKV5e_XSYcur"
      }
    },
    {
      "cell_type": "code",
      "source": [
        "ax = df.sentiment.value_counts().plot(kind='bar', color='blue', title='Count of Reviews by Sentiment')\n",
        "ax.set_xlabel('Sentiment')\n",
        "ax.set_ylabel('Number of Reviews')\n",
        "ax.grid(axis='y', linestyle='--', alpha=0.7)\n",
        "plt.show()"
      ],
      "metadata": {
        "id": "m66jfCxBYWkJ",
        "outputId": "c083df99-4c60-4819-e1ad-903cfeb787fd",
        "colab": {
          "base_uri": "https://localhost:8080/",
          "height": 524
        }
      },
      "execution_count": 4,
      "outputs": [
        {
          "output_type": "display_data",
          "data": {
            "text/plain": [
              "<Figure size 640x480 with 1 Axes>"
            ],
            "image/png": "[encoded data removed]"
          },
          "metadata": {}
        }
      ]
    },
    {
      "cell_type": "markdown",
      "source": [
        "### **Observation on Class Balance**\n",
        "\n",
        "As visually confirmed by the bar chart above, the dataset exhibits a perfectly balanced class distribution between positive and negative sentiments. This crucial characteristic implies that both sentiment classes are equally represented, mitigating common challenges associated with imbalanced datasets such as model bias towards the majority class. This balanced nature will facilitate straightforward training without the immediate need for advanced sampling techniques (e.g., oversampling, undersampling) or specialized loss functions, contributing to a more robust and fair evaluation of our sentiment analysis model."
      ],
      "metadata": {
        "id": "Na2-OmL2aqoG"
      }
    },
    {
      "cell_type": "code",
      "source": [
        "reviews = df['review'].tolist()\n",
        "sentiments = df['sentiment'].tolist()"
      ],
      "metadata": {
        "id": "4FxVg9k_ZcNB"
      },
      "execution_count": 5,
      "outputs": []
    },
    {
      "cell_type": "markdown",
      "source": [
        "# **Data Preprocessing**\n",
        "\n",
        "The `preprocess_text` function, shown below, is designed to clean up the raw movie reviews and get them ready for the model. This is a crucial step because it takes messy text and makes it consistent, while keeping important parts like emoticons.\n",
        "\n",
        "Let's break down what each part of this function does:\n",
        "\n",
        "- **Remove HTML Tags**: First, it gets rid of any HTML tags (like `<br/>` or `<i>`). These tags are just formatting and don't tell us anything about the sentiment.\n",
        "\n",
        "- **Lowercase Everything**: All text is converted to lowercase. This means words like \"Good,\" \"good,\" and \"GOOD\" are treated the same, which helps keep the vocabulary smaller and more consistent.\n",
        "\n",
        "- **Grab and Keep Emoticons**: This is a special part of the function. It finds emoticons (like `:)` or `:D`) and saves them. Emoticons are super important for sentiment, so we make sure they stick around even after we clean up other punctuation.\n",
        "\n",
        "- **Clean Up Other Characters**: After saving the emoticons, the function removes most other non-letter characters (like numbers or extra spaces) and replaces them with a single space. This further tidies up the text.\n",
        "\n",
        "- **Break into Words (Tokenize)**: The cleaned text is then split into individual words or \"tokens.\" This turns a big block of text into a list of words, which is what our model needs.\n",
        "\n",
        "- **Remove Stop Words**: Common words that don't add much meaning to the sentiment (like \"the,\" \"is,\" \"and\") are taken out. This helps the model focus on the more important words.\n",
        "\n",
        "- **Get Root Words (Lemmatize)**: Finally, words are changed to their basic form. For example, \"running,\" \"runs,\" and \"ran\" all become \"run.\" This helps reduce the total number of unique words while keeping their core meaning."
      ],
      "metadata": {
        "id": "eh0UdWAr4RMV"
      }
    },
    {
      "cell_type": "code",
      "source": [
        "def preprocess_text(text: str) -> None:\n",
        "    # Remove HTML tags\n",
        "    text = re.sub(r'<.*?>', '', text)\n",
        "    # Convert to lowercase\n",
        "    text = text.lower()\n",
        "    # Extract emoticons characters\n",
        "    emoticons = re.findall('(?::|;|=)(?:-)?(?:\\)|\\(|D|P)', text)\n",
        "    text = re.sub('[\\W]+', ' ', text.lower()) + ' '.join(emoticons).replace('-', '')\n",
        "    # Tokenize the text\n",
        "    tokens = word_tokenize(text)\n",
        "    # Remove Stop Words\n",
        "    stop_words = set(stopwords.words('english'))\n",
        "    tokens = [word for word in tokens if word not in stop_words]\n",
        "    # Convert words to their root form (stemmilng)\n",
        "    lemmatizer = WordNetLemmatizer()\n",
        "    tokens = [lemmatizer.lemmatize(word) for word in tokens]\n",
        "    return tokens"
      ],
      "metadata": {
        "id": "Ojm-9RKJclih"
      },
      "execution_count": 6,
      "outputs": []
    },
    {
      "cell_type": "markdown",
      "source": [
        "Now that our `preprocess_text` function is defined, it's time to apply it to all the movie reviews we loaded. This step transforms our raw text into a clean, tokenized format that our model can understand. Right after that, we'll convert our \"positive\" and \"negative\" sentiment labels into numbers, which is essential for PyTorch."
      ],
      "metadata": {
        "id": "RIW2qUTf-DHK"
      }
    },
    {
      "cell_type": "code",
      "source": [
        "# Apply preprocessing to your reviews\n",
        "preprocessed_reviews = [preprocess_text(review) for review in reviews]\n",
        "\n",
        "# Convert sentiments to numerical labels\n",
        "sentiment_labels = [1 if sentiment == 'positive' else 0 for sentiment in sentiments]\n"
      ],
      "metadata": {
        "id": "ZLQqc2CT7qL3"
      },
      "execution_count": 7,
      "outputs": []
    },
    {
      "cell_type": "markdown",
      "source": [
        "### **Splitting Data into Training and Testing Sets**\n",
        "\n",
        "With our reviews preprocessed and sentiments converted to numerical labels, the next crucial step is to divide our dataset into distinct training and testing sets. This separation is fundamental in machine learning to ensure that we can evaluate our model's performance on unseen data, providing an honest assessment of its generalization capabilities.\n",
        "\n",
        "We'll use `sklearn.model_selection.train_test_split` for this task."
      ],
      "metadata": {
        "id": "lBswuql9-Ykl"
      }
    },
    {
      "cell_type": "code",
      "source": [
        "train_reviews, test_reviews, train_labels, test_labels = train_test_split(preprocessed_reviews,\n",
        "                                                                sentiment_labels, test_size=0.2, random_state=42)"
      ],
      "metadata": {
        "id": "CWpHIjZEBZgl"
      },
      "execution_count": 8,
      "outputs": []
    },
    {
      "cell_type": "markdown",
      "source": [
        "### **Building the Vocabulary and Word-to-Index Mapping**\n",
        "\n",
        "Now that our data is split, the next step is to create a vocabulary from our training reviews. This vocabulary will essentially be a unique list of every word our model has seen during training. Once we have this list, we'll assign a unique numerical ID (an index) to each word. This numerical representation is crucial because neural networks, including LSTMs, can only process numbers, not raw text.\n",
        "\n",
        "We'll also add special tokens for padding and unknown words, which are essential for consistent input to our model."
      ],
      "metadata": {
        "id": "p6_hcebGA8xN"
      }
    },
    {
      "cell_type": "code",
      "source": [
        "vocab = set(word for review in train_reviews for word in review)\n",
        "word_to_index = {word: index + 2 for index, word in enumerate(vocab)}\n",
        "word_to_index['<PAD>'] = 0\n",
        "word_to_index['<UNK>'] = 1"
      ],
      "metadata": {
        "id": "zRepUlb9-met"
      },
      "execution_count": 9,
      "outputs": []
    },
    {
      "cell_type": "markdown",
      "source": [
        "### **Converting Reviews to Numerical Sequences**\n",
        "\n",
        "Now that we have our word_to_index mapping, we can finally convert our text reviews into numerical sequences. This is the stage where words transform into numbers, a format that our PyTorch **LSTM model** can actually process. We'll do this for both our training and testing reviews."
      ],
      "metadata": {
        "id": "EjwLjjqmB-8I"
      }
    },
    {
      "cell_type": "code",
      "source": [
        "train_sequences = [[word_to_index.get(word, word_to_index['<UNK>']) for word in review] for review in train_reviews]\n",
        "test_sequences = [[word_to_index.get(word, word_to_index['<UNK>']) for word in review] for review in test_reviews]\n"
      ],
      "metadata": {
        "id": "2Gz90GRUBy1t"
      },
      "execution_count": 10,
      "outputs": []
    },
    {
      "cell_type": "markdown",
      "source": [
        "### **Padding Sequences to Uniform Length**\n",
        "\n",
        "Deep learning models, especially those operating on batches of data like LSTMs, require all input sequences within a batch to have the same fixed length. Since our movie reviews vary in length, we need to apply padding. This process involves extending shorter sequences with a special \"padding\" token until they match the length of the longest sequence in our training set."
      ],
      "metadata": {
        "id": "aZHDi0pHCXQF"
      }
    },
    {
      "cell_type": "code",
      "source": [
        "max_length = max(len(seq) for seq in train_sequences)\n",
        "train_sequences = [seq + [word_to_index['<PAD>']] * (max_length - len(seq)) for seq in train_sequences]\n",
        "test_sequences = [seq + [word_to_index['<PAD>']] * (max_length - len(seq)) for seq in test_sequences]\n"
      ],
      "metadata": {
        "id": "SV9uM_3XAP0R"
      },
      "execution_count": 11,
      "outputs": []
    },
    {
      "cell_type": "markdown",
      "source": [
        "### **Converting Data to PyTorch Tensors**\n",
        "The final step in preparing our data is to convert our numerical Python lists into PyTorch tensors. Tensors are the fundamental data structures in PyTorch, similar to NumPy arrays, but with the added capability of being used on GPUs for accelerated computation, which is essential for training deep learning models."
      ],
      "metadata": {
        "id": "sQeZ1xgYCyOj"
      }
    },
    {
      "cell_type": "code",
      "source": [
        "train_sequences = torch.tensor(train_sequences)\n",
        "train_labels = torch.tensor(train_labels)\n",
        "test_sequences = torch.tensor(test_sequences)\n",
        "test_labels = torch.tensor(test_labels)\n"
      ],
      "metadata": {
        "id": "oY3gXOkMCreH"
      },
      "execution_count": 12,
      "outputs": []
    },
    {
      "cell_type": "markdown",
      "source": [
        "## **Defining the LSTM Model Architecture**\n",
        "\n",
        "This section defines the neural network architecture for our sentiment analysis task. We're using a Long Short-Term Memory (LSTM) network, which is particularly well-suited for processing sequential data like text. The model is encapsulated within the SentimentAnalysisLSTM class, inheriting from PyTorch's `nn.Module`."
      ],
      "metadata": {
        "id": "d9vFwDMXXxNT"
      }
    },
    {
      "cell_type": "code",
      "source": [
        "# Define the LSTM Model\n",
        "class SentimentAnalysisLSTM(nn.Module):\n",
        "    def __init__(self, vocab_size: int, embedding_dim: int, hidden_dim: int, output_dim: int, n_layers: int, bidirectional: bool, dropout: float) -> None:\n",
        "        \"\"\"\n",
        "        Initializes the SentimentAnalysisLSTM model.\n",
        "\n",
        "        Args:\n",
        "            vocab_size (int): The number of unique words in the vocabulary.\n",
        "            embedding_dim (int): The size of the word embeddings.\n",
        "            hidden_dim (int): The number of features in the hidden state of the LSTM.\n",
        "            output_dim (int): The size of the output layer (1 for binary classification).\n",
        "            n_layers (int): The number of LSTM layers.\n",
        "            bidirectional (bool): If True, the LSTM will be bidirectional.\n",
        "            dropout (float): The dropout probability for regularization.\n",
        "        \"\"\"\n",
        "        super(SentimentAnalysisLSTM, self).__init__()\n",
        "        self.embedding = nn.Embedding(vocab_size, embedding_dim)\n",
        "        self.lstm = nn.LSTM(embedding_dim, hidden_dim, num_layers=n_layers, bidirectional=bidirectional, dropout=dropout, batch_first=True)\n",
        "        self.fc = nn.Linear(hidden_dim * 2 if bidirectional else hidden_dim, output_dim)\n",
        "        self.sigmoid = nn.Sigmoid()\n",
        "\n",
        "    def forward(self, text: torch.Tensor) -> torch.Tensor:\n",
        "        \"\"\"\n",
        "        Forward pass of the model.\n",
        "\n",
        "        Args:\n",
        "            text (torch.Tensor): The input text data.\n",
        "\n",
        "        Returns:\n",
        "            torch.Tensor: The output of the model.\n",
        "        \"\"\"\n",
        "        embedded = self.embedding(text)\n",
        "        output, (hidden, cell) = self.lstm(embedded)\n",
        "        hidden = torch.cat((hidden[-2, :, :], hidden[-1, :, :]), dim=1) if self.lstm.bidirectional else hidden[-1, :, :]\n",
        "        return self.sigmoid(self.fc(hidden))"
      ],
      "metadata": {
        "id": "phuGsYBRDLSs"
      },
      "execution_count": 13,
      "outputs": []
    },
    {
      "cell_type": "markdown",
      "source": [
        "**Explanation of Components**\n",
        "\n",
        "1. **`nn.Embedding Layer`**:\n",
        "This is the first layer, responsible for taking our numerical word indices and converting them into dense, continuous vectors (embeddings). Each word in our vocabulary will have its own learned vector representation, capturing semantic relationships between words.\n",
        "\n",
        "2. **`nn.LSTM Layer`**:\n",
        "This is the core of our recurrent network. It takes the word embeddings as input.\n",
        "\n",
        "- **`hidden_dim`**: Determines the dimensionality of the `hidden state`, which acts as the \"memory\" of the LSTM.\n",
        "\n",
        "- **`num_layers`**: Allows stacking multiple LSTM layers on top of each other, enabling the model to learn more complex patterns.\n",
        "\n",
        "- **`bidirectional`**: A crucial parameter that enables the LSTM to process the input sequence in both forward and backward directions. This means the model can capture context from words appearing both before and after the current word in a sentence, which is highly beneficial for understanding sentiment.\n",
        "\n",
        "- **`dropout`**: A regularization technique applied to the output of each LSTM layer to prevent overfitting by randomly setting a fraction of outputs to zero during training.\n",
        "\n",
        "- **`batch_first=True`**: This setting is convenient because it means our input tensors will be shaped (`batch_size`, `sequence_length`, `embedding_dim`), which aligns well with common data loading patterns.\n",
        "\n",
        "3. **`nn.Linear`** (Fully Connected) Layer:\n",
        "After the LSTM processes the entire sequence, we are interested in its final representation. For sentiment classification, we typically take the final hidden state(s) of the LSTM. This linear layer takes that final hidden state and transforms it into our desired output_dim (which is 1 for binary classification). If the LSTM is bidirectional, the hidden state from both directions are concatenated, doubling its size, which is accounted for in the hidden_dim * 2 calculation.\n",
        "\n",
        "4. **`nn.Sigmoid`** Activation Function:\n",
        "Since this is a binary classification problem (positive or negative), we use a sigmoid function on the output of the final linear layer. The sigmoid function squashes the output value into a range between 0 and 1, which can then be interpreted as the probability of the review being positive.\n",
        "\n",
        "Forward Pass (`forward` method):\n",
        "The forward method defines the flow of data through the network:\n",
        "\n",
        "1. Embeddings: The input text (a batch of numerical sequences) first goes through the embedding layer, turning word indices into dense vectors.\n",
        "\n",
        "2. LSTM Processing: These embeddings are then fed into the lstm layer. The LSTM processes the sequence, maintaining an internal \"memory\" and producing an output (the output of all time steps) and the final hidden and cell states.\n",
        "\n",
        "3. Extract Final Hidden State: For sequence classification tasks like sentiment analysis, we typically use the final hidden state of the LSTM as the aggregated representation of the entire sequence.\n",
        "\n",
        "- If the LSTM is bidirectional, the `hidden` tensor contains states for both forward and backward directions across all layers. We specifically take the final hidden states from the last forward layer (`hidden[-2, :, :]`) and the last backward layer (`hidden[-1, :, :]`) and concatenate them to form a single, richer representation.\n",
        "\n",
        "- If unidirectional, we simply take the hidden state from the last layer (`hidden[-1, :, :]`).\n",
        "\n",
        "- Final Prediction: This combined (or single) final hidden state is then passed through the `fc` (fully connected) layer, and a `sigmoid` activation is applied to produce the final sentiment probability for each review in the batch."
      ],
      "metadata": {
        "id": "4N4xJHhqYKv4"
      }
    },
    {
      "cell_type": "markdown",
      "source": [
        "# **Training the Sentiment Analysis LSTM Model**\n",
        "\n",
        "This section details the training and validation process for our SentimentAnalysisLSTM model. It includes the setup for splitting data into train and validation sets, defining hyperparameters, initializing the model components, executing the training loop, and comprehensive evaluation with key metrics and visualizations."
      ],
      "metadata": {
        "id": "IjqQsZUOhz6_"
      }
    },
    {
      "cell_type": "markdown",
      "source": [
        "### **Hyperparameter Configuration and Device Setup**\n",
        "Core hyperparameters such as `vocab_size`, `embedding_dim`, `hidden_dim`, `n_layers`, `bidirectional`, `dropout`, `learning_rate`, `batch_size`, and `epochs` are defined. These parameters are crucial for controlling the model's architecture and the learning process. The code automatically leverages a CUDA-enabled GPU if available, falling back to CPU otherwise, to ensure efficient computation."
      ],
      "metadata": {
        "id": "9m7Z3rTtOvOa"
      }
    },
    {
      "cell_type": "code",
      "source": [
        "# Hyperparameters\n",
        "vocab_size = len(word_to_index)\n",
        "embedding_dim = 100\n",
        "hidden_dim = 256\n",
        "output_dim = 1\n",
        "n_layers = 2\n",
        "bidirectional = True\n",
        "dropout = 0.5\n",
        "learning_rate = 0.001\n",
        "batch_size = 32\n",
        "num_epochs = 8"
      ],
      "metadata": {
        "id": "OlTWFvrkUUZd",
        "outputId": "2654811c-6a02-42c4-fe11-7cc0ace4159e",
        "colab": {
          "base_uri": "https://localhost:8080/",
          "height": 211
        }
      },
      "execution_count": 1,
      "outputs": [
        {
          "output_type": "error",
          "ename": "NameError",
          "evalue": "name 'word_to_index' is not defined",
          "traceback": [
            "\u001b[0;31m---------------------------------------------------------------------------\u001b[0m",
            "\u001b[0;31mNameError\u001b[0m                                 Traceback (most recent call last)",
            "\u001b[0;32m<ipython-input-1-2394323508>\u001b[0m in \u001b[0;36m<cell line: 0>\u001b[0;34m()\u001b[0m\n\u001b[1;32m      1\u001b[0m \u001b[0;31m# Hyperparameters\u001b[0m\u001b[0;34m\u001b[0m\u001b[0;34m\u001b[0m\u001b[0m\n\u001b[0;32m----> 2\u001b[0;31m \u001b[0mvocab_size\u001b[0m \u001b[0;34m=\u001b[0m \u001b[0mlen\u001b[0m\u001b[0;34m(\u001b[0m\u001b[0mword_to_index\u001b[0m\u001b[0;34m)\u001b[0m\u001b[0;34m\u001b[0m\u001b[0;34m\u001b[0m\u001b[0m\n\u001b[0m\u001b[1;32m      3\u001b[0m \u001b[0membedding_dim\u001b[0m \u001b[0;34m=\u001b[0m \u001b[0;36m100\u001b[0m\u001b[0;34m\u001b[0m\u001b[0;34m\u001b[0m\u001b[0m\n\u001b[1;32m      4\u001b[0m \u001b[0mhidden_dim\u001b[0m \u001b[0;34m=\u001b[0m \u001b[0;36m256\u001b[0m\u001b[0;34m\u001b[0m\u001b[0;34m\u001b[0m\u001b[0m\n\u001b[1;32m      5\u001b[0m \u001b[0moutput_dim\u001b[0m \u001b[0;34m=\u001b[0m \u001b[0;36m1\u001b[0m\u001b[0;34m\u001b[0m\u001b[0;34m\u001b[0m\u001b[0m\n",
            "\u001b[0;31mNameError\u001b[0m: name 'word_to_index' is not defined"
          ]
        }
      ]
    },
    {
      "cell_type": "markdown",
      "source": [
        "## **Data Preparation for Training, Validation, and Testing**\n",
        "\n",
        "The `train_sequences` and `train_labels` are further partitioned into distinct training (80%) and validation (20%) sets. This separation is vital for monitoring model performance on unseen data during training, helping to detect overfitting. `TensorDataset` and `DataLoader` are used to efficiently manage and batch the data for all three sets (training, validation, and the final test set)."
      ],
      "metadata": {
        "id": "KjK7SpxhPKnw"
      }
    },
    {
      "cell_type": "code",
      "source": [
        "train_sequences_split, val_sequences, train_labels_split, val_labels = train_test_split(\n",
        "    train_sequences, train_labels, test_size=0.2, random_state=42\n",
        ")"
      ],
      "metadata": {
        "id": "3fjcVFhPi2Ma"
      },
      "execution_count": 15,
      "outputs": []
    },
    {
      "cell_type": "code",
      "source": [
        "train_dataset = TensorDataset(train_sequences_split, train_labels_split)\n",
        "val_dataset = TensorDataset(val_sequences, val_labels)\n",
        "test_dataset = TensorDataset(test_sequences, test_labels)\n",
        "\n",
        "train_loader = DataLoader(train_dataset, batch_size=batch_size, shuffle=True)\n",
        "val_loader = DataLoader(val_dataset, batch_size=batch_size, shuffle=False)\n",
        "test_loader = DataLoader(test_dataset, batch_size=batch_size, shuffle=False)"
      ],
      "metadata": {
        "id": "C2ywV_Y_lBXO"
      },
      "execution_count": 16,
      "outputs": []
    },
    {
      "cell_type": "code",
      "source": [
        "model = SentimentAnalysisLSTM(vocab_size, embedding_dim, hidden_dim, output_dim, n_layers, bidirectional, dropout).to(device)\n",
        "criterion = nn.BCELoss()\n",
        "optimizer = optim.Adam(model.parameters(), lr=learning_rate)"
      ],
      "metadata": {
        "id": "TRkeYDNclHWn"
      },
      "execution_count": 17,
      "outputs": []
    },
    {
      "cell_type": "markdown",
      "source": [
        "### **Model, Loss Function, and Optimizer Initialization**\n",
        "An instance of the `SentimentAnalysisLSTM` model is created with the specified hyperparameters and moved to the chosen device. `nn.BCELoss()` (Binary Cross-Entropy Loss) is selected as the criterion for measuring the difference between predicted probabilities and true binary labels, suitable for binary classification. The optim.Adam optimizer is employed to update model weights based on calculated gradients, with a defined learning_rate."
      ],
      "metadata": {
        "id": "H0eDdt3ePqHS"
      }
    },
    {
      "cell_type": "code",
      "source": [
        "train_losses = []\n",
        "val_losses = []\n",
        "train_accuracies = []\n",
        "val_accuracies = []\n",
        "val_precisions = []\n",
        "val_recalls = []\n",
        "\n",
        "MODEL_SAVE_DIR = 'models'\n",
        "os.makedirs(MODEL_SAVE_DIR, exist_ok=True)"
      ],
      "metadata": {
        "id": "qbQF95lKlk_o"
      },
      "execution_count": 18,
      "outputs": []
    },
    {
      "cell_type": "markdown",
      "source": [
        "### **Training and Validation Loop**\n",
        "\n",
        "The training process iterates over a fixed number of `epochs`. Each epoch comprises two phases:\n",
        "\n",
        "1. **Training Phase (`model.train()`)**:\n",
        "\n",
        "- The model is set to training mode, enabling dropout.\n",
        "- For each mini-batch from the `train_loader`:\n",
        " - Input sequences and labels are moved to the device.\n",
        " - Previous gradients are cleared (`optimizer.zero_grad()`).\n",
        " - Predictions are generated.\n",
        " - The loss is calculated, and backpropagation (`loss.backward()`) computes gradients.\n",
        " - Optimizer updates model parameters (`optimizer.step()`).\n",
        "- Training loss and predicted labels are accumulated to calculate epoch-level training accuracy.\n",
        "\n",
        "2. **Validation Phase (`model.eval()`)**:\n",
        "\n",
        "- The model is switched to evaluation mode, disabling training-specific layers like dropout.\n",
        "- `torch.no_grad()` is activated to prevent gradient computations, optimizing performance for inference.\n",
        "- For each mini-batch from the val_loader:\n",
        " - Predictions are made, and loss is computed.\n",
        " - Validation loss, predicted labels, and true labels are accumulated.\n",
        "- At the end of the validation phase, Validation Accuracy, Precision, and Recall are calculated using sklearn.metrics. These metrics provide a comprehensive view of the model's performance on the validation set, especially regarding its ability to correctly identify positive instances (Precision) and its coverage of all actual positive instances (Recall).\n",
        "- Progress is printed for each epoch, showing training and validation loss, accuracy, precision, and recall.\n",
        "- The state of the model at the end of each epoch is saved for reference."
      ],
      "metadata": {
        "id": "tHrF9XFDQSSK"
      }
    },
    {
      "cell_type": "code",
      "source": [
        "print('\\nStarting training...')\n",
        "for epoch in tqdm(range(num_epochs), desc=f'Training . . . '):\n",
        "    # Training phase\n",
        "    model.train()\n",
        "    running_loss = 0.0\n",
        "    all_train_predictions = []\n",
        "    all_train_labels = []\n",
        "\n",
        "    for sequences, labels in train_loader:\n",
        "        sequences, labels = sequences.to(device), labels.to(device)\n",
        "        optimizer.zero_grad()\n",
        "        predictions = model(sequences).squeeze(1)\n",
        "        loss = criterion(predictions, labels.float())\n",
        "        loss.backward()\n",
        "        optimizer.step()\n",
        "\n",
        "        running_loss += loss.item() * labels.size(0)\n",
        "        all_train_predictions.extend(torch.round(predictions).detach().cpu().numpy())\n",
        "        all_train_labels.extend(labels.cpu().numpy())\n",
        "\n",
        "    epoch_train_loss = running_loss / len(train_loader.dataset)\n",
        "    epoch_train_accuracy = accuracy_score(all_train_labels, all_train_predictions)\n",
        "    train_losses.append(epoch_train_loss)\n",
        "    train_accuracies.append(epoch_train_accuracy)\n",
        "\n",
        "\n",
        "    # Validation phase\n",
        "    model.eval()\n",
        "    val_running_loss = 0.0\n",
        "    all_val_predictions = []\n",
        "    all_val_labels = []\n",
        "    with torch.no_grad():\n",
        "        for sequences, labels in val_loader:\n",
        "            sequences, labels = sequences.to(device), labels.to(device)\n",
        "            predictions = model(sequences).squeeze(1)\n",
        "            loss = criterion(predictions, labels.float())\n",
        "\n",
        "            val_running_loss += loss.item() * labels.size(0)\n",
        "            all_val_predictions.extend(torch.round(predictions).cpu().numpy())\n",
        "            all_val_labels.extend(labels.cpu().numpy())\n",
        "\n",
        "    epoch_val_loss = val_running_loss / len(val_loader.dataset)\n",
        "    epoch_val_accuracy = accuracy_score(all_val_labels, all_val_predictions)\n",
        "    epoch_val_precision = precision_score(all_val_labels, all_val_predictions, zero_division=0)\n",
        "    epoch_val_recall = recall_score(all_val_labels, all_val_predictions, zero_division=0)\n",
        "\n",
        "    val_losses.append(epoch_val_loss)\n",
        "    val_accuracies.append(epoch_val_accuracy)\n",
        "    val_precisions.append(epoch_val_precision)\n",
        "    val_recalls.append(epoch_val_recall)\n",
        "\n",
        "    print(f'Epoch {epoch+1}/{num_epochs} | '\n",
        "          f'Train Loss: {epoch_train_loss:.4f} | Train Acc: {epoch_train_accuracy:.4f} | '\n",
        "          f'Val Loss: {epoch_val_loss:.4f} | Val Acc: {epoch_val_accuracy:.4f} | '\n",
        "          f'Val Prec: {epoch_val_precision:.4f} | Val Rec: {epoch_val_recall:.4f}')\n",
        "\n",
        "    # Save Model After Each Epoch\n",
        "    model_path = os.path.join(MODEL_SAVE_DIR, f'sentiment-lstm-epoch-{epoch+1}.pt')\n",
        "    torch.save(model.state_dict(), model_path)\n",
        "    print(f\"Model saved to {model_path}\")\n",
        "\n",
        "print('\\nTraining complete.')"
      ],
      "metadata": {
        "colab": {
          "base_uri": "https://localhost:8080/"
        },
        "id": "T4yuHGJ1lubi",
        "outputId": "1e550f4c-3d95-42e4-c00f-308dd9f52610"
      },
      "execution_count": null,
      "outputs": [
        {
          "output_type": "stream",
          "name": "stdout",
          "text": [
            "\n",
            "Starting training...\n"
          ]
        },
        {
          "output_type": "stream",
          "name": "stderr",
          "text": [
            "\rTraining . . . :   0%|          | 0/8 [00:00<?, ?it/s]"
          ]
        }
      ]
    },
    {
      "cell_type": "markdown",
      "source": [
        "### **Plotting Training History**\n",
        "\n",
        "Now that  the training loop have concluded, `matplotlib` is used to visualize the model's learning trajectory. Three plots are generated:\n",
        "\n",
        "- **Loss Curve**: Illustrates the training and validation loss over epochs.'\n",
        "\n",
        "- **Accuracy Curve**: Shows the training and validation accuracy over epochs.\n",
        "\n",
        "- **Validation Precision and Recall Curve**: Tracks the validation precision and recall values over epochs, allowing for observation of their trends throughout training.\n",
        "\n",
        "These plots are critical for diagnosing issues such as overfitting (where validation loss increases or accuracy/precision/recall plateaus/decreases while training metrics continue to improve).\n"
      ],
      "metadata": {
        "id": "UKCVB9_XSSG_"
      }
    },
    {
      "cell_type": "code",
      "source": [
        "# --- Plotting Results ---\n",
        "epochs_range = range(1, epochs + 1)\n",
        "\n",
        "plt.figure(figsize=(21, 6)) # Increased figure size for 3 plots\n",
        "\n",
        "# Plotting Loss\n",
        "plt.subplot(1, 3, 1) # Changed to 1 row, 3 columns\n",
        "plt.plot(epochs_range, train_losses, label='Training Loss')\n",
        "plt.plot(epochs_range, val_losses, label='Validation Loss')\n",
        "plt.title('Training and Validation Loss')\n",
        "plt.xlabel('Epoch')\n",
        "plt.ylabel('Loss')\n",
        "plt.legend()\n",
        "plt.grid(True)\n",
        "\n",
        "# Plotting Accuracy\n",
        "plt.subplot(1, 3, 2) # Changed to 1 row, 3 columns\n",
        "plt.plot(epochs_range, train_accuracies, label='Training Accuracy')\n",
        "plt.plot(epochs_range, val_accuracies, label='Validation Accuracy')\n",
        "plt.title('Training and Validation Accuracy')\n",
        "plt.xlabel('Epoch')\n",
        "plt.ylabel('Accuracy')\n",
        "plt.legend()\n",
        "plt.grid(True)\n",
        "\n",
        "# Plotting Precision and Recall\n",
        "plt.subplot(1, 3, 3) # New subplot\n",
        "plt.plot(epochs_range, val_precisions, label='Validation Precision', color='purple')\n",
        "plt.plot(epochs_range, val_recalls, label='Validation Recall', color='orange')\n",
        "plt.title('Validation Precision and Recall')\n",
        "plt.xlabel('Epoch')\n",
        "plt.ylabel('Score')\n",
        "plt.legend()\n",
        "plt.grid(True)\n",
        "\n",
        "plt.tight_layout()\n",
        "plt.show()"
      ],
      "metadata": {
        "id": "rbc5DI0ZmLyM"
      },
      "execution_count": null,
      "outputs": []
    },
    {
      "cell_type": "markdown",
      "source": [
        "### **Final Evaluation on Test Set**\n",
        "To provide an unbiased assessment of the model's generalization capability, a final evaluation is performed on the completely unseen test_dataset. The model remains in `eval()` mode, and predictions are gathered. The Final Test Accuracy, Precision, and Recall are calculated and printed, offering a robust measure of the model's expected performance on new, real-world data.\n",
        "\n",
        "The `zero_division=0` parameter in `precision_score` and `recall_score` is used to handle potential scenarios where there might be no true positive or predicted positive samples, preventing division-by-zero errors and returning a score of 0 in such cases.\n",
        "\n",
        "\n",
        "\n",
        "\n",
        "\n",
        "\n",
        "\n",
        "\n"
      ],
      "metadata": {
        "id": "U8J0no-2TZhT"
      }
    },
    {
      "cell_type": "code",
      "source": [
        "# Final Evaluation on Test Set\n",
        "print('\\nEvaluating on test set\\n...')\n",
        "model.eval()\n",
        "all_test_predictions = []\n",
        "all_test_labels = []\n",
        "\n",
        "with torch.no_grad():\n",
        "    for sequences, labels in test_loader:\n",
        "        sequences, labels = sequences.to(device), labels.to(device)\n",
        "        predictions = model(sequences).squeeze(1)\n",
        "        predicted = torch.round(predictions)\n",
        "        all_test_predictions.extend(predicted.cpu().numpy())\n",
        "        all_test_labels.extend(labels.cpu().numpy())\n",
        "\n",
        "test_accuracy = accuracy_score(all_test_labels, all_test_predictions)\n",
        "test_precision = precision_score(all_test_labels, all_test_predictions, zero_division=0)\n",
        "test_recall = recall_score(all_test_labels, all_test_predictions, zero_division=0)\n",
        "\n",
        "print(f'Final Test Accuracy: {test_accuracy:.4f}')\n",
        "print(f'Final Test Precision: {test_precision:.4f}')\n",
        "print(f'Final Test Recall: {test_recall:.4f}')"
      ],
      "metadata": {
        "id": "IxzOIvE3mS_m"
      },
      "execution_count": null,
      "outputs": []
    },
    {
      "cell_type": "code",
      "source": [],
      "metadata": {
        "id": "PeIi4m7u5_e5"
      },
      "execution_count": null,
      "outputs": []
    }
  ]
}