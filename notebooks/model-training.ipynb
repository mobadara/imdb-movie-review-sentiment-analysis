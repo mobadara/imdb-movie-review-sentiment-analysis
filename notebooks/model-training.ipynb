{
  "nbformat": 4,
  "nbformat_minor": 0,
  "metadata": {
    "colab": {
      "provenance": [],
      "gpuType": "T4",
      "authorship_tag": "ABX9TyP6eNLKd5rF680CDIKPnQvU"
    },
    "kernelspec": {
      "name": "python3",
      "display_name": "Python 3"
    },
    "language_info": {
      "name": "python"
    },
    "accelerator": "GPU",
    "widgets": {
      "application/vnd.jupyter.widget-state+json": {
        "a4daaa8c58b4413c9dfe7a169678510d": {
          "model_module": "@jupyter-widgets/controls",
          "model_name": "HBoxModel",
          "model_module_version": "1.5.0",
          "state": {
            "_dom_classes": [],
            "_model_module": "@jupyter-widgets/controls",
            "_model_module_version": "1.5.0",
            "_model_name": "HBoxModel",
            "_view_count": null,
            "_view_module": "@jupyter-widgets/controls",
            "_view_module_version": "1.5.0",
            "_view_name": "HBoxView",
            "box_style": "",
            "children": [
              "IPY_MODEL_5008ae3e661048ceafd7bc5ddea1439a",
              "IPY_MODEL_95ecf116c1a24b57a04e899642f0a770",
              "IPY_MODEL_c18b5f910c7e4c17b92230c2139a0289"
            ],
            "layout": "IPY_MODEL_b0bff68473a342a1bd48aef0718f00da"
          }
        },
        "5008ae3e661048ceafd7bc5ddea1439a": {
          "model_module": "@jupyter-widgets/controls",
          "model_name": "HTMLModel",
          "model_module_version": "1.5.0",
          "state": {
            "_dom_classes": [],
            "_model_module": "@jupyter-widgets/controls",
            "_model_module_version": "1.5.0",
            "_model_name": "HTMLModel",
            "_view_count": null,
            "_view_module": "@jupyter-widgets/controls",
            "_view_module_version": "1.5.0",
            "_view_name": "HTMLView",
            "description": "",
            "description_tooltip": null,
            "layout": "IPY_MODEL_64f9be24fc504f138290839e6f1e2428",
            "placeholder": "​",
            "style": "IPY_MODEL_028dce4c693f458aa637f6e43bb93fb3",
            "value": "Training Epoch: 0: 100%"
          }
        },
        "95ecf116c1a24b57a04e899642f0a770": {
          "model_module": "@jupyter-widgets/controls",
          "model_name": "FloatProgressModel",
          "model_module_version": "1.5.0",
          "state": {
            "_dom_classes": [],
            "_model_module": "@jupyter-widgets/controls",
            "_model_module_version": "1.5.0",
            "_model_name": "FloatProgressModel",
            "_view_count": null,
            "_view_module": "@jupyter-widgets/controls",
            "_view_module_version": "1.5.0",
            "_view_name": "ProgressView",
            "bar_style": "success",
            "description": "",
            "description_tooltip": null,
            "layout": "IPY_MODEL_8e2255641b3d446cb562dbbed8644ff7",
            "max": 15,
            "min": 0,
            "orientation": "horizontal",
            "style": "IPY_MODEL_a759dd05bcaa41f7bd87545cf85a4e6b",
            "value": 15
          }
        },
        "c18b5f910c7e4c17b92230c2139a0289": {
          "model_module": "@jupyter-widgets/controls",
          "model_name": "HTMLModel",
          "model_module_version": "1.5.0",
          "state": {
            "_dom_classes": [],
            "_model_module": "@jupyter-widgets/controls",
            "_model_module_version": "1.5.0",
            "_model_name": "HTMLModel",
            "_view_count": null,
            "_view_module": "@jupyter-widgets/controls",
            "_view_module_version": "1.5.0",
            "_view_name": "HTMLView",
            "description": "",
            "description_tooltip": null,
            "layout": "IPY_MODEL_b260ae59e532457082b8a0f0abdb8b39",
            "placeholder": "​",
            "style": "IPY_MODEL_d8cb7139b5bc4c08abf5a75aa5bdc8ec",
            "value": " 15/15 [1:08:19&lt;00:00, 273.39s/it]"
          }
        },
        "b0bff68473a342a1bd48aef0718f00da": {
          "model_module": "@jupyter-widgets/base",
          "model_name": "LayoutModel",
          "model_module_version": "1.2.0",
          "state": {
            "_model_module": "@jupyter-widgets/base",
            "_model_module_version": "1.2.0",
            "_model_name": "LayoutModel",
            "_view_count": null,
            "_view_module": "@jupyter-widgets/base",
            "_view_module_version": "1.2.0",
            "_view_name": "LayoutView",
            "align_content": null,
            "align_items": null,
            "align_self": null,
            "border": null,
            "bottom": null,
            "display": null,
            "flex": null,
            "flex_flow": null,
            "grid_area": null,
            "grid_auto_columns": null,
            "grid_auto_flow": null,
            "grid_auto_rows": null,
            "grid_column": null,
            "grid_gap": null,
            "grid_row": null,
            "grid_template_areas": null,
            "grid_template_columns": null,
            "grid_template_rows": null,
            "height": null,
            "justify_content": null,
            "justify_items": null,
            "left": null,
            "margin": null,
            "max_height": null,
            "max_width": null,
            "min_height": null,
            "min_width": null,
            "object_fit": null,
            "object_position": null,
            "order": null,
            "overflow": null,
            "overflow_x": null,
            "overflow_y": null,
            "padding": null,
            "right": null,
            "top": null,
            "visibility": null,
            "width": null
          }
        },
        "64f9be24fc504f138290839e6f1e2428": {
          "model_module": "@jupyter-widgets/base",
          "model_name": "LayoutModel",
          "model_module_version": "1.2.0",
          "state": {
            "_model_module": "@jupyter-widgets/base",
            "_model_module_version": "1.2.0",
            "_model_name": "LayoutModel",
            "_view_count": null,
            "_view_module": "@jupyter-widgets/base",
            "_view_module_version": "1.2.0",
            "_view_name": "LayoutView",
            "align_content": null,
            "align_items": null,
            "align_self": null,
            "border": null,
            "bottom": null,
            "display": null,
            "flex": null,
            "flex_flow": null,
            "grid_area": null,
            "grid_auto_columns": null,
            "grid_auto_flow": null,
            "grid_auto_rows": null,
            "grid_column": null,
            "grid_gap": null,
            "grid_row": null,
            "grid_template_areas": null,
            "grid_template_columns": null,
            "grid_template_rows": null,
            "height": null,
            "justify_content": null,
            "justify_items": null,
            "left": null,
            "margin": null,
            "max_height": null,
            "max_width": null,
            "min_height": null,
            "min_width": null,
            "object_fit": null,
            "object_position": null,
            "order": null,
            "overflow": null,
            "overflow_x": null,
            "overflow_y": null,
            "padding": null,
            "right": null,
            "top": null,
            "visibility": null,
            "width": null
          }
        },
        "028dce4c693f458aa637f6e43bb93fb3": {
          "model_module": "@jupyter-widgets/controls",
          "model_name": "DescriptionStyleModel",
          "model_module_version": "1.5.0",
          "state": {
            "_model_module": "@jupyter-widgets/controls",
            "_model_module_version": "1.5.0",
            "_model_name": "DescriptionStyleModel",
            "_view_count": null,
            "_view_module": "@jupyter-widgets/base",
            "_view_module_version": "1.2.0",
            "_view_name": "StyleView",
            "description_width": ""
          }
        },
        "8e2255641b3d446cb562dbbed8644ff7": {
          "model_module": "@jupyter-widgets/base",
          "model_name": "LayoutModel",
          "model_module_version": "1.2.0",
          "state": {
            "_model_module": "@jupyter-widgets/base",
            "_model_module_version": "1.2.0",
            "_model_name": "LayoutModel",
            "_view_count": null,
            "_view_module": "@jupyter-widgets/base",
            "_view_module_version": "1.2.0",
            "_view_name": "LayoutView",
            "align_content": null,
            "align_items": null,
            "align_self": null,
            "border": null,
            "bottom": null,
            "display": null,
            "flex": null,
            "flex_flow": null,
            "grid_area": null,
            "grid_auto_columns": null,
            "grid_auto_flow": null,
            "grid_auto_rows": null,
            "grid_column": null,
            "grid_gap": null,
            "grid_row": null,
            "grid_template_areas": null,
            "grid_template_columns": null,
            "grid_template_rows": null,
            "height": null,
            "justify_content": null,
            "justify_items": null,
            "left": null,
            "margin": null,
            "max_height": null,
            "max_width": null,
            "min_height": null,
            "min_width": null,
            "object_fit": null,
            "object_position": null,
            "order": null,
            "overflow": null,
            "overflow_x": null,
            "overflow_y": null,
            "padding": null,
            "right": null,
            "top": null,
            "visibility": null,
            "width": null
          }
        },
        "a759dd05bcaa41f7bd87545cf85a4e6b": {
          "model_module": "@jupyter-widgets/controls",
          "model_name": "ProgressStyleModel",
          "model_module_version": "1.5.0",
          "state": {
            "_model_module": "@jupyter-widgets/controls",
            "_model_module_version": "1.5.0",
            "_model_name": "ProgressStyleModel",
            "_view_count": null,
            "_view_module": "@jupyter-widgets/base",
            "_view_module_version": "1.2.0",
            "_view_name": "StyleView",
            "bar_color": null,
            "description_width": ""
          }
        },
        "b260ae59e532457082b8a0f0abdb8b39": {
          "model_module": "@jupyter-widgets/base",
          "model_name": "LayoutModel",
          "model_module_version": "1.2.0",
          "state": {
            "_model_module": "@jupyter-widgets/base",
            "_model_module_version": "1.2.0",
            "_model_name": "LayoutModel",
            "_view_count": null,
            "_view_module": "@jupyter-widgets/base",
            "_view_module_version": "1.2.0",
            "_view_name": "LayoutView",
            "align_content": null,
            "align_items": null,
            "align_self": null,
            "border": null,
            "bottom": null,
            "display": null,
            "flex": null,
            "flex_flow": null,
            "grid_area": null,
            "grid_auto_columns": null,
            "grid_auto_flow": null,
            "grid_auto_rows": null,
            "grid_column": null,
            "grid_gap": null,
            "grid_row": null,
            "grid_template_areas": null,
            "grid_template_columns": null,
            "grid_template_rows": null,
            "height": null,
            "justify_content": null,
            "justify_items": null,
            "left": null,
            "margin": null,
            "max_height": null,
            "max_width": null,
            "min_height": null,
            "min_width": null,
            "object_fit": null,
            "object_position": null,
            "order": null,
            "overflow": null,
            "overflow_x": null,
            "overflow_y": null,
            "padding": null,
            "right": null,
            "top": null,
            "visibility": null,
            "width": null
          }
        },
        "d8cb7139b5bc4c08abf5a75aa5bdc8ec": {
          "model_module": "@jupyter-widgets/controls",
          "model_name": "DescriptionStyleModel",
          "model_module_version": "1.5.0",
          "state": {
            "_model_module": "@jupyter-widgets/controls",
            "_model_module_version": "1.5.0",
            "_model_name": "DescriptionStyleModel",
            "_view_count": null,
            "_view_module": "@jupyter-widgets/base",
            "_view_module_version": "1.2.0",
            "_view_name": "StyleView",
            "description_width": ""
          }
        }
      }
    }
  },
  "cells": [
    {
      "cell_type": "markdown",
      "source": [
        "# **Sentiment Analysis with LSTM on PyTorch**\n",
        "\n",
        "[![Python](https://img.shields.io/badge/Python-3.9%2B-blue?style=flat&logo=python&logoColor=white)](https://www.python.org/)\n",
        "[![PyTorch](https://img.shields.io/badge/PyTorch-2.0%2B-red?style=flat&logo=pytorch&logoColor=white)](https://pytorch.org/)\n",
        "[![RNN](https://img.shields.io/badge/Model-RNN%20(LSTM)-green?style=flat)](https://en.wikipedia.org/wiki/Recurrent_neural_network)\n",
        "[![Open In Colab](https://colab.research.google.com/assets/colab-badge.svg)](https://colab.research.google.com/github/mobadara/imdb-movie-review-sentiment-analysis/blob/main/notebooks/model-training.ipynb)\n",
        "\n",
        "---\n",
        "\n",
        "## **End-to-End Sentiment Analysis with PyTorch LSTM**\n",
        "\n",
        "This project demonstrates an end-to-end sentiment analysis solution built using PyTorch, focusing on a binary classification problem (positive vs. negative sentiment). The primary objective of this submission is to showcase proficiency in key deep learning concepts and practical PyTorch implementation skills, including:\n",
        "\n",
        "* **Data Handling with Pandas and PyTorch:** Efficiently loading, processing, and transforming data from a Pandas DataFrame into PyTorch `TensorDataset` and `DataLoader` for effective batch processing.\n",
        "* **Comprehensive Text Preprocessing:** Implementing robust text cleaning techniques, including HTML tag removal, lowercasing, tokenization, stop word removal, and lemmatization, crucial for preparing raw text for neural network input.\n",
        "* **Vocabulary Management and Embedding Preparation:** Building a custom vocabulary and converting textual data into numerical sequences suitable for embedding layers. This includes handling padding and unknown tokens.\n",
        "* **Recurrent Neural Network (RNN) Architecture Design:** Constructing and training a Long Short-Term Memory (LSTM) network, a powerful variant of RNNs, specifically tailored for sequential data like natural language. The model will leverage an embedding layer for dense word representations.\n",
        "* **PyTorch Model Training and Evaluation:** Implementing a complete training loop, defining appropriate loss functions (Binary Cross-Entropy), optimizers (Adam), and evaluating model performance (accuracy) on a held-out test set.\n",
        "\n",
        "The [dataset](https://www.kaggle.com/datasets/lakshmi25npathi/imdb-dataset-of-50k-movie-reviews) for this task consists of reviews with a perfectly balanced class distribution, providing an ideal scenario for training and validating a sentiment classifier. This notebook serves as a comprehensive demonstration of the entire machine learning pipeline, from raw data to a trained predictive model, using the PyTorch framework.\n",
        "\n",
        "---\n",
        "\n",
        "## **Theoretical Background: Recurrent Neural Networks (RNNs)**\n",
        "\n",
        "Recurrent Neural Networks (RNNs) are a class of artificial neural networks designed to recognize patterns in sequences of data, such as text, speech, or time series. Unlike traditional feedforward neural networks, RNNs have connections that allow information to flow in a loop, enabling them to maintain an internal state (or \"memory\") that captures information about previous elements in the sequence. This \"memory\" makes them particularly well-suited for tasks involving sequential data where the context of past elements is crucial for understanding the current one.\n",
        "\n",
        "### **Introduction: The Challenge of Vanishing/Exploding Gradients**\n",
        "\n",
        "A significant challenge with vanilla RNNs is the problem of **vanishing or exploding gradients**. During backpropagation through time (BPTT), which is how RNNs learn, gradients can either become extremely small (vanishing) or extremely large (exploding) as they propagate through many time steps.\n",
        "\n",
        "* **Vanishing gradients** make it difficult for the network to learn long-range dependencies, as the influence of earlier inputs on the current output diminishes over time.\n",
        "* **Exploding gradients** lead to unstable training and large weight updates, potentially causing the model to diverge.\n",
        "\n",
        "### **Long Short-Term Memory (LSTM) Networks**\n",
        "\n",
        "To address the vanishing gradient problem, **Long Short-Term Memory (LSTM) networks** were introduced. LSTMs are a special type of RNN that are capable of learning long-term dependencies. They achieve this through a sophisticated internal structure called a \"cell state\" and several \"gates\" that regulate the flow of information into and out of the cell state.\n",
        "\n",
        "Each LSTM unit consists of:\n",
        "* **Forget Gate:** Decides what information to throw away from the cell state.\n",
        "* **Input Gate:** Decides what new information to store in the cell state.\n",
        "* **Output Gate:** Decides what part of the cell state to output.\n",
        "\n",
        "These gates are typically composed of a sigmoid neural net layer and a pointwise multiplication operation. The sigmoid layer outputs numbers between 0 and 1, describing how much of each component should be let through. A value of 0 means \"don't let anything through,\" while a value of 1 means \"let everything through.\"\n",
        "\n",
        "By intelligently controlling the flow of information, LSTMs can preserve relevant information over long sequences, making them highly effective for tasks like sentiment analysis, machine translation, and speech recognition."
      ],
      "metadata": {
        "id": "tZmqwJxaLIpM"
      }
    },
    {
      "cell_type": "markdown",
      "source": [
        "## **Setup and Library Initialization**\n",
        "This section is dedicated to the essential setup procedures required for the project. Below, we'll load all necessary Python packages, ensuring the environment is correctly configured with the appropriate settings and dependencies. This foundational step is critical for seamless execution of the subsequent data processing, model training, and evaluation phases of our sentiment analysis task."
      ],
      "metadata": {
        "id": "Dm5ZVdccRGpJ"
      }
    },
    {
      "cell_type": "code",
      "execution_count": 43,
      "metadata": {
        "id": "dQyZN03hJ9Il",
        "outputId": "3f8b78d1-2db7-4856-b595-16e1e5187eba",
        "colab": {
          "base_uri": "https://localhost:8080/"
        }
      },
      "outputs": [
        {
          "output_type": "stream",
          "name": "stderr",
          "text": [
            "[nltk_data] Downloading package punkt_tab to /root/nltk_data...\n",
            "[nltk_data]   Package punkt_tab is already up-to-date!\n",
            "[nltk_data] Downloading package stopwords to /root/nltk_data...\n",
            "[nltk_data]   Package stopwords is already up-to-date!\n",
            "[nltk_data] Downloading package wordnet to /root/nltk_data...\n",
            "[nltk_data]   Package wordnet is already up-to-date!\n"
          ]
        },
        {
          "output_type": "stream",
          "name": "stdout",
          "text": [
            "Path to dataset files: /kaggle/input/imdb-dataset-of-50k-movie-reviews\n",
            "The path /kaggle/input/imdb-dataset-of-50k-movie-reviews exists: True\n",
            "Files in the path /kaggle/input/imdb-dataset-of-50k-movie-reviews: ['IMDB Dataset.csv']\n",
            "--------------------------------------------------\n",
            "PyTorch version: 2.6.0+cu124\n",
            "NLTK version: 3.9.1\n",
            "Pandas version: 2.2.2\n",
            "Matplotlib version: 3.10.0\n",
            "Setup Completed . . . \n"
          ]
        }
      ],
      "source": [
        "# import packages\n",
        "import os\n",
        "import torch\n",
        "import nltk\n",
        "import re\n",
        "import kagglehub\n",
        "import matplotlib\n",
        "import torch.nn as nn\n",
        "import torch.optim as optim\n",
        "import pandas as pd\n",
        "import matplotlib.pyplot as plt\n",
        "from torch.utils.data import Dataset, DataLoader, TensorDataset\n",
        "from sklearn.model_selection import train_test_split\n",
        "from sklearn.metrics import precision_score, recall_score, accuracy_score\n",
        "from nltk.corpus import stopwords\n",
        "from nltk.tokenize import word_tokenize\n",
        "from nltk.stem import WordNetLemmatizer\n",
        "from tqdm.auto import tqdm\n",
        "\n",
        "# Download necessary NLTK resources\n",
        "nltk.download('punkt_tab')\n",
        "nltk.download('stopwords')\n",
        "nltk.download('wordnet')\n",
        "\n",
        "plt.style.use('ggplot')\n",
        "torch.manual_seed(42)\n",
        "\n",
        "# Download latest version Dataset\n",
        "path = kagglehub.dataset_download(\"lakshmi25npathi/imdb-dataset-of-50k-movie-reviews\")\n",
        "print(\"Path to dataset files:\", path)\n",
        "print(f'The path {path} exists: {os.path.exists(path)}')\n",
        "print(f'Files in the path {path}: {os.listdir(path)}')\n",
        "\n",
        "print(f'-'*50)\n",
        "print(f'PyTorch version: {torch.__version__}')\n",
        "print(f'NLTK version: {nltk.__version__}')\n",
        "print(f'Pandas version: {pd.__version__}')\n",
        "print(f'Matplotlib version: {matplotlib.__version__}')\n",
        "print('Setup Completed . . . ')"
      ]
    },
    {
      "cell_type": "code",
      "source": [
        "device = torch.device('cuda' if torch.cuda.is_available() else 'cpu')\n",
        "device"
      ],
      "metadata": {
        "id": "owMQF-zyi88e",
        "outputId": "d6b3d388-d475-4d38-9966-3d9733ba9f9d",
        "colab": {
          "base_uri": "https://localhost:8080/"
        }
      },
      "execution_count": 23,
      "outputs": [
        {
          "output_type": "execute_result",
          "data": {
            "text/plain": [
              "device(type='cuda')"
            ]
          },
          "metadata": {},
          "execution_count": 23
        }
      ]
    },
    {
      "cell_type": "markdown",
      "source": [
        "## **Data Loading**\n",
        "\n",
        "In this crucial step, we will load our dataset, which has been pre-downloaded and stored within the specified directory. The file path to this dataset is dynamically managed and accessible via the `path` variable, ensuring flexibility and ease of access. We will utilize the `pandas` library to efficiently read the data into a DataFrame, providing a robust structure for subsequent preprocessing and analysis. This initial data ingestion is fundamental to preparing our text reviews for the sentiment analysis pipeline."
      ],
      "metadata": {
        "id": "cpnh0IJ7WVWy"
      }
    },
    {
      "cell_type": "code",
      "source": [
        "try:\n",
        "    # Load the data from the specified path into a Pandas DataFrame\n",
        "    full_path = os.path.join(path, 'IMDB Dataset.csv')\n",
        "    df = pd.read_csv(full_path)\n",
        "    print(f\"Successfully loaded data from: {full_path}\")\n",
        "    print(\"DataFrame Head:\")\n",
        "    print(df.head())\n",
        "    print(\"\\nDataFrame Info:\")\n",
        "    df.info()\n",
        "except FileNotFoundError:\n",
        "    print(f\"Error: The file '{full_path}' was not found.\")\n",
        "    print(\"Please ensure the file exists at the specified path.\")\n",
        "except Exception as e:\n",
        "    print(f\"An error occurred while loading the data: {e}\")"
      ],
      "metadata": {
        "id": "sxrzBvuyUEWC",
        "outputId": "529de78f-612b-4841-d40c-c0975ed0cb42",
        "colab": {
          "base_uri": "https://localhost:8080/"
        }
      },
      "execution_count": 24,
      "outputs": [
        {
          "output_type": "stream",
          "name": "stdout",
          "text": [
            "Successfully loaded data from: /kaggle/input/imdb-dataset-of-50k-movie-reviews/IMDB Dataset.csv\n",
            "DataFrame Head:\n",
            "                                              review sentiment\n",
            "0  One of the other reviewers has mentioned that ...  positive\n",
            "1  A wonderful little production. <br /><br />The...  positive\n",
            "2  I thought this was a wonderful way to spend ti...  positive\n",
            "3  Basically there's a family where a little boy ...  negative\n",
            "4  Petter Mattei's \"Love in the Time of Money\" is...  positive\n",
            "\n",
            "DataFrame Info:\n",
            "<class 'pandas.core.frame.DataFrame'>\n",
            "RangeIndex: 50000 entries, 0 to 49999\n",
            "Data columns (total 2 columns):\n",
            " #   Column     Non-Null Count  Dtype \n",
            "---  ------     --------------  ----- \n",
            " 0   review     50000 non-null  object\n",
            " 1   sentiment  50000 non-null  object\n",
            "dtypes: object(2)\n",
            "memory usage: 781.4+ KB\n"
          ]
        }
      ]
    },
    {
      "cell_type": "markdown",
      "source": [
        "This dataset comprises **50,000** reviews, each accompanied by a sentiment label indicating whether the review is positive or negative."
      ],
      "metadata": {
        "id": "pKV5e_XSYcur"
      }
    },
    {
      "cell_type": "code",
      "source": [
        "ax = df.sentiment.value_counts().plot(kind='bar', color='blue', title='Count of Reviews by Sentiment')\n",
        "ax.set_xlabel('Sentiment')\n",
        "ax.set_ylabel('Number of Reviews')\n",
        "ax.grid(axis='y', linestyle='--', alpha=0.7)\n",
        "plt.show()"
      ],
      "metadata": {
        "id": "m66jfCxBYWkJ",
        "outputId": "8d5366ba-72f3-4823-d50f-c5f0d659999f",
        "colab": {
          "base_uri": "https://localhost:8080/",
          "height": 524
        }
      },
      "execution_count": 25,
      "outputs": [
        {
          "output_type": "display_data",
          "data": {
            "text/plain": [
              "<Figure size 640x480 with 1 Axes>"
            ],
            "image/png": "[encoded data removed]"
          },
          "metadata": {}
        }
      ]
    },
    {
      "cell_type": "markdown",
      "source": [
        "### **Observation on Class Balance**\n",
        "\n",
        "As visually confirmed by the bar chart above, the dataset exhibits a perfectly balanced class distribution between positive and negative sentiments. This crucial characteristic implies that both sentiment classes are equally represented, mitigating common challenges associated with imbalanced datasets such as model bias towards the majority class. This balanced nature will facilitate straightforward training without the immediate need for advanced sampling techniques (e.g., oversampling, undersampling) or specialized loss functions, contributing to a more robust and fair evaluation of our sentiment analysis model."
      ],
      "metadata": {
        "id": "Na2-OmL2aqoG"
      }
    },
    {
      "cell_type": "code",
      "source": [
        "reviews = df['review'].tolist()\n",
        "sentiments = df['sentiment'].tolist()"
      ],
      "metadata": {
        "id": "4FxVg9k_ZcNB"
      },
      "execution_count": 26,
      "outputs": []
    },
    {
      "cell_type": "markdown",
      "source": [
        "# **Data Preprocessing**\n",
        "\n",
        "The `preprocess_text` function, shown below, is designed to clean up the raw movie reviews and get them ready for the model. This is a crucial step because it takes messy text and makes it consistent, while keeping important parts like emoticons.\n",
        "\n",
        "Let's break down what each part of this function does:\n",
        "\n",
        "- **Remove HTML Tags**: First, it gets rid of any HTML tags (like `<br/>` or `<i>`). These tags are just formatting and don't tell us anything about the sentiment.\n",
        "\n",
        "- **Lowercase Everything**: All text is converted to lowercase. This means words like \"Good,\" \"good,\" and \"GOOD\" are treated the same, which helps keep the vocabulary smaller and more consistent.\n",
        "\n",
        "- **Grab and Keep Emoticons**: This is a special part of the function. It finds emoticons (like `:)` or `:D`) and saves them. Emoticons are super important for sentiment, so we make sure they stick around even after we clean up other punctuation.\n",
        "\n",
        "- **Clean Up Other Characters**: After saving the emoticons, the function removes most other non-letter characters (like numbers or extra spaces) and replaces them with a single space. This further tidies up the text.\n",
        "\n",
        "- **Break into Words (Tokenize)**: The cleaned text is then split into individual words or \"tokens.\" This turns a big block of text into a list of words, which is what our model needs.\n",
        "\n",
        "- **Remove Stop Words**: Common words that don't add much meaning to the sentiment (like \"the,\" \"is,\" \"and\") are taken out. This helps the model focus on the more important words.\n",
        "\n",
        "- **Get Root Words (Lemmatize)**: Finally, words are changed to their basic form. For example, \"running,\" \"runs,\" and \"ran\" all become \"run.\" This helps reduce the total number of unique words while keeping their core meaning."
      ],
      "metadata": {
        "id": "eh0UdWAr4RMV"
      }
    },
    {
      "cell_type": "code",
      "source": [
        "def preprocess_text(text: str) -> None:\n",
        "    # Remove HTML tags\n",
        "    text = re.sub(r'<.*?>', '', text)\n",
        "    # Convert to lowercase\n",
        "    text = text.lower()\n",
        "    # Extract emoticons characters\n",
        "    emoticons = re.findall('(?::|;|=)(?:-)?(?:\\)|\\(|D|P)', text)\n",
        "    text = re.sub('[\\W]+', ' ', text.lower()) + ' '.join(emoticons).replace('-', '')\n",
        "    # Tokenize the text\n",
        "    tokens = word_tokenize(text)\n",
        "    # Remove Stop Words\n",
        "    stop_words = set(stopwords.words('english'))\n",
        "    tokens = [word for word in tokens if word not in stop_words]\n",
        "    # Convert words to their root form (stemmilng)\n",
        "    lemmatizer = WordNetLemmatizer()\n",
        "    tokens = [lemmatizer.lemmatize(word) for word in tokens]\n",
        "    return tokens"
      ],
      "metadata": {
        "id": "Ojm-9RKJclih"
      },
      "execution_count": 27,
      "outputs": []
    },
    {
      "cell_type": "markdown",
      "source": [
        "Now that our `preprocess_text` function is defined, it's time to apply it to all the movie reviews we loaded. This step transforms our raw text into a clean, tokenized format that our model can understand. Right after that, we'll convert our \"positive\" and \"negative\" sentiment labels into numbers, which is essential for PyTorch."
      ],
      "metadata": {
        "id": "RIW2qUTf-DHK"
      }
    },
    {
      "cell_type": "code",
      "source": [
        "# Apply preprocessing to your reviews\n",
        "preprocessed_reviews = [preprocess_text(review) for review in reviews]\n",
        "\n",
        "# Convert sentiments to numerical labels\n",
        "sentiment_labels = [1 if sentiment == 'positive' else 0 for sentiment in sentiments]\n"
      ],
      "metadata": {
        "id": "ZLQqc2CT7qL3"
      },
      "execution_count": 28,
      "outputs": []
    },
    {
      "cell_type": "markdown",
      "source": [
        "### **Splitting Data into Training and Testing Sets**\n",
        "\n",
        "With our reviews preprocessed and sentiments converted to numerical labels, the next crucial step is to divide our dataset into distinct training and testing sets. This separation is fundamental in machine learning to ensure that we can evaluate our model's performance on unseen data, providing an honest assessment of its generalization capabilities.\n",
        "\n",
        "We'll use `sklearn.model_selection.train_test_split` for this task."
      ],
      "metadata": {
        "id": "lBswuql9-Ykl"
      }
    },
    {
      "cell_type": "code",
      "source": [
        "train_reviews, test_reviews, train_labels, test_labels = train_test_split(preprocessed_reviews,\n",
        "                                                                sentiment_labels, test_size=0.2, random_state=42)"
      ],
      "metadata": {
        "id": "CWpHIjZEBZgl"
      },
      "execution_count": 29,
      "outputs": []
    },
    {
      "cell_type": "markdown",
      "source": [
        "### **Building the Vocabulary and Word-to-Index Mapping**\n",
        "\n",
        "Now that our data is split, the next step is to create a vocabulary from our training reviews. This vocabulary will essentially be a unique list of every word our model has seen during training. Once we have this list, we'll assign a unique numerical ID (an index) to each word. This numerical representation is crucial because neural networks, including LSTMs, can only process numbers, not raw text.\n",
        "\n",
        "We'll also add special tokens for padding and unknown words, which are essential for consistent input to our model."
      ],
      "metadata": {
        "id": "p6_hcebGA8xN"
      }
    },
    {
      "cell_type": "code",
      "source": [
        "vocab = set(word for review in train_reviews for word in review)\n",
        "word_to_index = {word: index + 2 for index, word in enumerate(vocab)}\n",
        "word_to_index['<PAD>'] = 0\n",
        "word_to_index['<UNK>'] = 1"
      ],
      "metadata": {
        "id": "zRepUlb9-met"
      },
      "execution_count": 30,
      "outputs": []
    },
    {
      "cell_type": "markdown",
      "source": [
        "### **Converting Reviews to Numerical Sequences**\n",
        "\n",
        "Now that we have our word_to_index mapping, we can finally convert our text reviews into numerical sequences. This is the stage where words transform into numbers, a format that our PyTorch **LSTM model** can actually process. We'll do this for both our training and testing reviews."
      ],
      "metadata": {
        "id": "EjwLjjqmB-8I"
      }
    },
    {
      "cell_type": "code",
      "source": [
        "train_sequences = [[word_to_index.get(word, word_to_index['<UNK>']) for word in review] for review in train_reviews]\n",
        "test_sequences = [[word_to_index.get(word, word_to_index['<UNK>']) for word in review] for review in test_reviews]\n"
      ],
      "metadata": {
        "id": "2Gz90GRUBy1t"
      },
      "execution_count": 31,
      "outputs": []
    },
    {
      "cell_type": "markdown",
      "source": [
        "### **Padding Sequences to Uniform Length**\n",
        "\n",
        "Deep learning models, especially those operating on batches of data like LSTMs, require all input sequences within a batch to have the same fixed length. Since our movie reviews vary in length, we need to apply padding. This process involves extending shorter sequences with a special \"padding\" token until they match the length of the longest sequence in our training set."
      ],
      "metadata": {
        "id": "aZHDi0pHCXQF"
      }
    },
    {
      "cell_type": "code",
      "source": [
        "max_length = max(len(seq) for seq in train_sequences)\n",
        "train_sequences = [seq + [word_to_index['<PAD>']] * (max_length - len(seq)) for seq in train_sequences]\n",
        "test_sequences = [seq + [word_to_index['<PAD>']] * (max_length - len(seq)) for seq in test_sequences]\n"
      ],
      "metadata": {
        "id": "SV9uM_3XAP0R"
      },
      "execution_count": 32,
      "outputs": []
    },
    {
      "cell_type": "markdown",
      "source": [
        "### **Converting Data to PyTorch Tensors**\n",
        "The final step in preparing our data is to convert our numerical Python lists into PyTorch tensors. Tensors are the fundamental data structures in PyTorch, similar to NumPy arrays, but with the added capability of being used on GPUs for accelerated computation, which is essential for training deep learning models."
      ],
      "metadata": {
        "id": "sQeZ1xgYCyOj"
      }
    },
    {
      "cell_type": "code",
      "source": [
        "train_sequences = torch.tensor(train_sequences)\n",
        "train_labels = torch.tensor(train_labels)\n",
        "test_sequences = torch.tensor(test_sequences)\n",
        "test_labels = torch.tensor(test_labels)\n"
      ],
      "metadata": {
        "id": "oY3gXOkMCreH"
      },
      "execution_count": 33,
      "outputs": []
    },
    {
      "cell_type": "markdown",
      "source": [
        "## **Defining the LSTM Model Architecture**\n",
        "\n",
        "This section defines the neural network architecture for our sentiment analysis task. We're using a Long Short-Term Memory (LSTM) network, which is particularly well-suited for processing sequential data like text. The model is encapsulated within the SentimentAnalysisLSTM class, inheriting from PyTorch's `nn.Module`."
      ],
      "metadata": {
        "id": "d9vFwDMXXxNT"
      }
    },
    {
      "cell_type": "code",
      "source": [
        "# Define the LSTM Model\n",
        "class SentimentAnalysisLSTM(nn.Module):\n",
        "    def __init__(self, vocab_size: int, embedding_dim: int, hidden_dim: int, output_dim: int, n_layers: int, bidirectional: bool, dropout: float) -> None:\n",
        "        \"\"\"\n",
        "        Initializes the SentimentAnalysisLSTM model.\n",
        "\n",
        "        Args:\n",
        "            vocab_size (int): The number of unique words in the vocabulary.\n",
        "            embedding_dim (int): The size of the word embeddings.\n",
        "            hidden_dim (int): The number of features in the hidden state of the LSTM.\n",
        "            output_dim (int): The size of the output layer (1 for binary classification).\n",
        "            n_layers (int): The number of LSTM layers.\n",
        "            bidirectional (bool): If True, the LSTM will be bidirectional.\n",
        "            dropout (float): The dropout probability for regularization.\n",
        "        \"\"\"\n",
        "        super(SentimentAnalysisLSTM, self).__init__()\n",
        "        self.embedding = nn.Embedding(vocab_size, embedding_dim)\n",
        "        self.lstm = nn.LSTM(embedding_dim, hidden_dim, num_layers=n_layers, bidirectional=bidirectional, dropout=dropout, batch_first=True)\n",
        "        self.fc = nn.Linear(hidden_dim * 2 if bidirectional else hidden_dim, output_dim)\n",
        "        self.sigmoid = nn.Sigmoid()\n",
        "\n",
        "    def forward(self, text: torch.Tensor) -> torch.Tensor:\n",
        "        \"\"\"\n",
        "        Forward pass of the model.\n",
        "\n",
        "        Args:\n",
        "            text (torch.Tensor): The input text data.\n",
        "\n",
        "        Returns:\n",
        "            torch.Tensor: The output of the model.\n",
        "        \"\"\"\n",
        "        embedded = self.embedding(text)\n",
        "        output, (hidden, cell) = self.lstm(embedded)\n",
        "        hidden = torch.cat((hidden[-2, :, :], hidden[-1, :, :]), dim=1) if self.lstm.bidirectional else hidden[-1, :, :]\n",
        "        return self.sigmoid(self.fc(hidden))"
      ],
      "metadata": {
        "id": "phuGsYBRDLSs"
      },
      "execution_count": 34,
      "outputs": []
    },
    {
      "cell_type": "markdown",
      "source": [
        "**Explanation of Components**\n",
        "\n",
        "1. **`nn.Embedding Layer`**:\n",
        "This is the first layer, responsible for taking our numerical word indices and converting them into dense, continuous vectors (embeddings). Each word in our vocabulary will have its own learned vector representation, capturing semantic relationships between words.\n",
        "\n",
        "2. **`nn.LSTM Layer`**:\n",
        "This is the core of our recurrent network. It takes the word embeddings as input.\n",
        "\n",
        "- **`hidden_dim`**: Determines the dimensionality of the `hidden state`, which acts as the \"memory\" of the LSTM.\n",
        "\n",
        "- **`num_layers`**: Allows stacking multiple LSTM layers on top of each other, enabling the model to learn more complex patterns.\n",
        "\n",
        "- **`bidirectional`**: A crucial parameter that enables the LSTM to process the input sequence in both forward and backward directions. This means the model can capture context from words appearing both before and after the current word in a sentence, which is highly beneficial for understanding sentiment.\n",
        "\n",
        "- **`dropout`**: A regularization technique applied to the output of each LSTM layer to prevent overfitting by randomly setting a fraction of outputs to zero during training.\n",
        "\n",
        "- **`batch_first=True`**: This setting is convenient because it means our input tensors will be shaped (`batch_size`, `sequence_length`, `embedding_dim`), which aligns well with common data loading patterns.\n",
        "\n",
        "3. **`nn.Linear`** (Fully Connected) Layer:\n",
        "After the LSTM processes the entire sequence, we are interested in its final representation. For sentiment classification, we typically take the final hidden state(s) of the LSTM. This linear layer takes that final hidden state and transforms it into our desired output_dim (which is 1 for binary classification). If the LSTM is bidirectional, the hidden state from both directions are concatenated, doubling its size, which is accounted for in the hidden_dim * 2 calculation.\n",
        "\n",
        "4. **`nn.Sigmoid`** Activation Function:\n",
        "Since this is a binary classification problem (positive or negative), we use a sigmoid function on the output of the final linear layer. The sigmoid function squashes the output value into a range between 0 and 1, which can then be interpreted as the probability of the review being positive.\n",
        "\n",
        "Forward Pass (`forward` method):\n",
        "The forward method defines the flow of data through the network:\n",
        "\n",
        "1. Embeddings: The input text (a batch of numerical sequences) first goes through the embedding layer, turning word indices into dense vectors.\n",
        "\n",
        "2. LSTM Processing: These embeddings are then fed into the lstm layer. The LSTM processes the sequence, maintaining an internal \"memory\" and producing an output (the output of all time steps) and the final hidden and cell states.\n",
        "\n",
        "3. Extract Final Hidden State: For sequence classification tasks like sentiment analysis, we typically use the final hidden state of the LSTM as the aggregated representation of the entire sequence.\n",
        "\n",
        "- If the LSTM is bidirectional, the `hidden` tensor contains states for both forward and backward directions across all layers. We specifically take the final hidden states from the last forward layer (`hidden[-2, :, :]`) and the last backward layer (`hidden[-1, :, :]`) and concatenate them to form a single, richer representation.\n",
        "\n",
        "- If unidirectional, we simply take the hidden state from the last layer (`hidden[-1, :, :]`).\n",
        "\n",
        "- Final Prediction: This combined (or single) final hidden state is then passed through the `fc` (fully connected) layer, and a `sigmoid` activation is applied to produce the final sentiment probability for each review in the batch."
      ],
      "metadata": {
        "id": "4N4xJHhqYKv4"
      }
    },
    {
      "cell_type": "markdown",
      "source": [
        "## **Model Training and Evaluation**\n",
        "\n",
        "Now that our data is preprocessed and our `SentimentAnalysisLSTM` model architecture is defined, it's time to bring everything together for the training phase. This section will walk through the critical steps of preparing our data for PyTorch's training loop, initializing the model's learning components, and executing the iterative process of training and validating our sentiment analysis model. We'll closely monitor its performance using key metrics like loss, accuracy, precision, and recall across both training and validation datasets, culminating in a final evaluation on the unseen test set to assess its real-world effectiveness."
      ],
      "metadata": {
        "id": "IjqQsZUOhz6_"
      }
    },
    {
      "cell_type": "code",
      "source": [
        "# Hyperparameters\n",
        "vocab_size = len(word_to_index)\n",
        "embedding_dim = 100\n",
        "hidden_dim = 256\n",
        "output_dim = 1\n",
        "n_layers = 2\n",
        "bidirectional = True\n",
        "dropout = 0.5\n",
        "learning_rate = 0.001\n",
        "batch_size = 64\n",
        "epochs = 15"
      ],
      "metadata": {
        "id": "OlTWFvrkUUZd"
      },
      "execution_count": 35,
      "outputs": []
    },
    {
      "cell_type": "code",
      "source": [
        "train_sequences_split, val_sequences, train_labels_split, val_labels = train_test_split(\n",
        "    train_sequences, train_labels, test_size=0.2, random_state=42\n",
        ")"
      ],
      "metadata": {
        "id": "3fjcVFhPi2Ma"
      },
      "execution_count": 36,
      "outputs": []
    },
    {
      "cell_type": "code",
      "source": [
        "train_dataset = TensorDataset(train_sequences_split, train_labels_split)\n",
        "val_dataset = TensorDataset(val_sequences, val_labels)\n",
        "test_dataset = TensorDataset(test_sequences, test_labels)\n",
        "\n",
        "train_loader = DataLoader(train_dataset, batch_size=batch_size, shuffle=True)\n",
        "val_loader = DataLoader(val_dataset, batch_size=batch_size, shuffle=False)\n",
        "test_loader = DataLoader(test_dataset, batch_size=batch_size, shuffle=False)"
      ],
      "metadata": {
        "id": "C2ywV_Y_lBXO"
      },
      "execution_count": 37,
      "outputs": []
    },
    {
      "cell_type": "code",
      "source": [
        "model = SentimentAnalysisLSTM(vocab_size, embedding_dim, hidden_dim, output_dim, n_layers, bidirectional, dropout).to(device)\n",
        "criterion = nn.BCELoss()\n",
        "optimizer = optim.Adam(model.parameters(), lr=learning_rate)"
      ],
      "metadata": {
        "id": "TRkeYDNclHWn"
      },
      "execution_count": 38,
      "outputs": []
    },
    {
      "cell_type": "code",
      "source": [
        "train_losses = []\n",
        "val_losses = []\n",
        "train_accuracies = []\n",
        "val_accuracies = []\n",
        "val_precisions = []\n",
        "val_recalls = []"
      ],
      "metadata": {
        "id": "qbQF95lKlk_o"
      },
      "execution_count": 39,
      "outputs": []
    },
    {
      "cell_type": "code",
      "source": [
        "print('\\nStarting training...')\n",
        "for epoch in tqdm(range(epochs), desc=f'Training'):\n",
        "    # Training phase\n",
        "    model.train()\n",
        "    running_loss = 0.0\n",
        "    all_train_predictions = []\n",
        "    all_train_labels = []\n",
        "\n",
        "    for sequences, labels in train_loader:\n",
        "        sequences, labels = sequences.to(device), labels.to(device)\n",
        "        optimizer.zero_grad()\n",
        "        predictions = model(sequences).squeeze(1)\n",
        "        loss = criterion(predictions, labels.float())\n",
        "        loss.backward()\n",
        "        optimizer.step()\n",
        "\n",
        "        running_loss += loss.item() * labels.size(0)\n",
        "        all_train_predictions.extend(torch.round(predictions).detach().cpu().numpy())\n",
        "        all_train_labels.extend(labels.cpu().numpy())\n",
        "\n",
        "    epoch_train_loss = running_loss / len(train_loader.dataset)\n",
        "    epoch_train_accuracy = accuracy_score(all_train_labels, all_train_predictions)\n",
        "    train_losses.append(epoch_train_loss)\n",
        "    train_accuracies.append(epoch_train_accuracy)\n",
        "\n",
        "\n",
        "    # Validation phase\n",
        "    model.eval()\n",
        "    val_running_loss = 0.0\n",
        "    all_val_predictions = []\n",
        "    all_val_labels = []\n",
        "    with torch.no_grad():\n",
        "        for sequences, labels in val_loader:\n",
        "            sequences, labels = sequences.to(device), labels.to(device)\n",
        "            predictions = model(sequences).squeeze(1)\n",
        "            loss = criterion(predictions, labels.float())\n",
        "\n",
        "            val_running_loss += loss.item() * labels.size(0)\n",
        "            all_val_predictions.extend(torch.round(predictions).cpu().numpy())\n",
        "            all_val_labels.extend(labels.cpu().numpy())\n",
        "\n",
        "    epoch_val_loss = val_running_loss / len(val_loader.dataset)\n",
        "    epoch_val_accuracy = accuracy_score(all_val_labels, all_val_predictions)\n",
        "    epoch_val_precision = precision_score(all_val_labels, all_val_predictions, zero_division=0) # zero_division=0 to handle cases where there are no positive predictions\n",
        "    epoch_val_recall = recall_score(all_val_labels, all_val_predictions, zero_division=0)\n",
        "\n",
        "    val_losses.append(epoch_val_loss)\n",
        "    val_accuracies.append(epoch_val_accuracy)\n",
        "    val_precisions.append(epoch_val_precision)\n",
        "    val_recalls.append(epoch_val_recall)\n",
        "\n",
        "    print(f'Epoch {epoch+1}/{epochs} | '\n",
        "          f'Train Loss: {epoch_train_loss:.4f} | Train Acc: {epoch_train_accuracy:.4f} | '\n",
        "          f'Val Loss: {epoch_val_loss:.4f} | Val Acc: {epoch_val_accuracy:.4f} | '\n",
        "          f'Val Prec: {epoch_val_precision:.4f} | Val Rec: {epoch_val_recall:.4f}')\n",
        "print('\\nTraining complete.')"
      ],
      "metadata": {
        "id": "T4yuHGJ1lubi",
        "outputId": "c48e351b-d289-4bd4-dfc1-ffc5b03e831d",
        "colab": {
          "base_uri": "https://localhost:8080/",
          "height": 344,
          "referenced_widgets": [
            "a4daaa8c58b4413c9dfe7a169678510d",
            "5008ae3e661048ceafd7bc5ddea1439a",
            "95ecf116c1a24b57a04e899642f0a770",
            "c18b5f910c7e4c17b92230c2139a0289",
            "b0bff68473a342a1bd48aef0718f00da",
            "64f9be24fc504f138290839e6f1e2428",
            "028dce4c693f458aa637f6e43bb93fb3",
            "8e2255641b3d446cb562dbbed8644ff7",
            "a759dd05bcaa41f7bd87545cf85a4e6b",
            "b260ae59e532457082b8a0f0abdb8b39",
            "d8cb7139b5bc4c08abf5a75aa5bdc8ec"
          ]
        }
      },
      "execution_count": 44,
      "outputs": [
        {
          "metadata": {
            "tags": null
          },
          "name": "stdout",
          "output_type": "stream",
          "text": [
            "\n",
            "Starting training...\n"
          ]
        },
        {
          "data": {
            "application/vnd.jupyter.widget-view+json": {
              "model_id": "a4daaa8c58b4413c9dfe7a169678510d",
              "version_major": 2,
              "version_minor": 0
            },
            "text/plain": [
              "Training Epoch: 0:   0%|          | 0/15 [00:00<?, ?it/s]"
            ]
          },
          "metadata": {},
          "output_type": "display_data"
        },
        {
          "output_type": "stream",
          "name": "stdout",
          "text": [
            "Epoch 1/15 | Train Loss: 0.6478 | Train Acc: 0.6254 | Val Loss: 0.6199 | Val Acc: 0.6643 | Val Prec: 0.6322 | Val Rec: 0.8018\n",
            "Epoch 2/15 | Train Loss: 0.5747 | Train Acc: 0.6875 | Val Loss: 0.3974 | Val Acc: 0.8240 | Val Prec: 0.8330 | Val Rec: 0.8149\n",
            "Epoch 3/15 | Train Loss: 0.3429 | Train Acc: 0.8529 | Val Loss: 0.3180 | Val Acc: 0.8690 | Val Prec: 0.8644 | Val Rec: 0.8785\n",
            "Epoch 4/15 | Train Loss: 0.2540 | Train Acc: 0.8995 | Val Loss: 0.3078 | Val Acc: 0.8701 | Val Prec: 0.8319 | Val Rec: 0.9310\n",
            "Epoch 5/15 | Train Loss: 0.1844 | Train Acc: 0.9309 | Val Loss: 0.2827 | Val Acc: 0.8859 | Val Prec: 0.8752 | Val Rec: 0.9027\n",
            "Epoch 6/15 | Train Loss: 0.1393 | Train Acc: 0.9528 | Val Loss: 0.3568 | Val Acc: 0.8665 | Val Prec: 0.9251 | Val Rec: 0.8005\n",
            "Epoch 7/15 | Train Loss: 0.0974 | Train Acc: 0.9702 | Val Loss: 0.3128 | Val Acc: 0.8886 | Val Prec: 0.8840 | Val Rec: 0.8973\n",
            "Epoch 8/15 | Train Loss: 0.0664 | Train Acc: 0.9808 | Val Loss: 0.3893 | Val Acc: 0.8861 | Val Prec: 0.9057 | Val Rec: 0.8646\n",
            "Epoch 9/15 | Train Loss: 0.0500 | Train Acc: 0.9865 | Val Loss: 0.4062 | Val Acc: 0.8824 | Val Prec: 0.8642 | Val Rec: 0.9102\n",
            "Epoch 10/15 | Train Loss: 0.0429 | Train Acc: 0.9878 | Val Loss: 0.4516 | Val Acc: 0.8871 | Val Prec: 0.8976 | Val Rec: 0.8765\n",
            "Epoch 11/15 | Train Loss: 0.0257 | Train Acc: 0.9936 | Val Loss: 0.4715 | Val Acc: 0.8851 | Val Prec: 0.8944 | Val Rec: 0.8760\n",
            "Epoch 12/15 | Train Loss: 0.0206 | Train Acc: 0.9950 | Val Loss: 0.5426 | Val Acc: 0.8815 | Val Prec: 0.8936 | Val Rec: 0.8688\n",
            "Epoch 13/15 | Train Loss: 0.0233 | Train Acc: 0.9931 | Val Loss: 0.5770 | Val Acc: 0.8844 | Val Prec: 0.8724 | Val Rec: 0.9032\n",
            "Epoch 14/15 | Train Loss: 0.0166 | Train Acc: 0.9959 | Val Loss: 0.5330 | Val Acc: 0.8831 | Val Prec: 0.8970 | Val Rec: 0.8683\n",
            "Epoch 15/15 | Train Loss: 0.0118 | Train Acc: 0.9967 | Val Loss: 0.6534 | Val Acc: 0.8838 | Val Prec: 0.8765 | Val Rec: 0.8961\n"
          ]
        }
      ]
    },
    {
      "cell_type": "code",
      "source": [
        "# --- Plotting Results ---\n",
        "epochs_range = range(1, epochs + 1)\n",
        "\n",
        "plt.figure(figsize=(21, 6)) # Increased figure size for 3 plots\n",
        "\n",
        "# Plotting Loss\n",
        "plt.subplot(1, 3, 1) # Changed to 1 row, 3 columns\n",
        "plt.plot(epochs_range, train_losses, label='Training Loss')\n",
        "plt.plot(epochs_range, val_losses, label='Validation Loss')\n",
        "plt.title('Training and Validation Loss')\n",
        "plt.xlabel('Epoch')\n",
        "plt.ylabel('Loss')\n",
        "plt.legend()\n",
        "plt.grid(True)\n",
        "\n",
        "# Plotting Accuracy\n",
        "plt.subplot(1, 3, 2) # Changed to 1 row, 3 columns\n",
        "plt.plot(epochs_range, train_accuracies, label='Training Accuracy')\n",
        "plt.plot(epochs_range, val_accuracies, label='Validation Accuracy')\n",
        "plt.title('Training and Validation Accuracy')\n",
        "plt.xlabel('Epoch')\n",
        "plt.ylabel('Accuracy')\n",
        "plt.legend()\n",
        "plt.grid(True)\n",
        "\n",
        "# Plotting Precision and Recall\n",
        "plt.subplot(1, 3, 3) # New subplot\n",
        "plt.plot(epochs_range, val_precisions, label='Validation Precision', color='purple')\n",
        "plt.plot(epochs_range, val_recalls, label='Validation Recall', color='orange')\n",
        "plt.title('Validation Precision and Recall')\n",
        "plt.xlabel('Epoch')\n",
        "plt.ylabel('Score')\n",
        "plt.legend()\n",
        "plt.grid(True)\n",
        "\n",
        "plt.tight_layout()\n",
        "plt.show()"
      ],
      "metadata": {
        "id": "rbc5DI0ZmLyM",
        "outputId": "b934f174-4d21-416d-c2ac-1b506131d522",
        "colab": {
          "base_uri": "https://localhost:8080/",
          "height": 368
        }
      },
      "execution_count": 48,
      "outputs": [
        {
          "output_type": "display_data",
          "data": {
            "text/plain": [
              "<Figure size 2100x600 with 3 Axes>"
            ],
            "image/png": "[encoded data removed]"
          },
          "metadata": {}
        }
      ]
    },
    {
      "cell_type": "code",
      "source": [
        "# --- Final Evaluation on Test Set ---\n",
        "print('\\nEvaluating on test set...')\n",
        "model.eval()\n",
        "all_test_predictions = []\n",
        "all_test_labels = []\n",
        "\n",
        "with torch.no_grad():\n",
        "    for sequences, labels in test_loader:\n",
        "        sequences, labels = sequences.to(device), labels.to(device)\n",
        "        predictions = model(sequences).squeeze(1)\n",
        "        predicted = torch.round(predictions)\n",
        "        all_test_predictions.extend(predicted.cpu().numpy())\n",
        "        all_test_labels.extend(labels.cpu().numpy())\n",
        "\n",
        "test_accuracy = accuracy_score(all_test_labels, all_test_predictions)\n",
        "test_precision = precision_score(all_test_labels, all_test_predictions, zero_division=0)\n",
        "test_recall = recall_score(all_test_labels, all_test_predictions, zero_division=0)\n",
        "\n",
        "print(f'Final Test Accuracy: {test_accuracy:.4f}')\n",
        "print(f'Final Test Precision: {test_precision:.4f}')\n",
        "print(f'Final Test Recall: {test_recall:.4f}')"
      ],
      "metadata": {
        "id": "IxzOIvE3mS_m",
        "outputId": "8e184b2f-8801-4dd2-85a7-b1b173b5e59e",
        "colab": {
          "base_uri": "https://localhost:8080/"
        }
      },
      "execution_count": 49,
      "outputs": [
        {
          "output_type": "stream",
          "name": "stdout",
          "text": [
            "\n",
            "Evaluating on test set...\n",
            "Final Test Accuracy: 0.8795\n",
            "Final Test Precision: 0.8583\n",
            "Final Test Recall: 0.9113\n"
          ]
        }
      ]
    },
    {
      "cell_type": "code",
      "source": [],
      "metadata": {
        "id": "PeIi4m7u5_e5"
      },
      "execution_count": null,
      "outputs": []
    }
  ]
}